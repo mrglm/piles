{
 "cells": [
  {
   "cell_type": "markdown",
   "id": "7bf562e5",
   "metadata": {},
   "source": [
    "Pour tous les exercices à l'exception du 6, on utilisera la première implémentation de pile fournie dans le cours :"
   ]
  },
  {
   "cell_type": "code",
   "execution_count": 79,
   "id": "0387fb9a",
   "metadata": {},
   "outputs": [],
   "source": [
    "def creer_pile():\n",
    "    \"\"\" Créé une pile vide\n",
    "    :return: Une pile vide représentée par la liste vide\n",
    "    \"\"\"\n",
    "    return []\n",
    "\n",
    "\n",
    "def est_vide(p):\n",
    "    \"\"\" Teste si une pile est vide\n",
    "    :param p: Une pile\n",
    "    :return: True si p est vide, False sinon\n",
    "    \"\"\"\n",
    "    return p == []\n",
    "\n",
    "\n",
    "def empiler(p, e):\n",
    "    \"\"\" Empile un élement au sommet d'une pile\n",
    "    :param p: Une pile\n",
    "    :param e: Un élement\n",
    "    :return: None\n",
    "    :Effets: Empile e au sommet de p\n",
    "    \"\"\"\n",
    "    p.append(e)\n",
    "    \n",
    "\n",
    "def depiler(p):\n",
    "    \"\"\" Depile un élément au sommet d'une pile et le renvoie\n",
    "    :param p: Une pile\n",
    "    :return: L'élément au sommet de la pile\n",
    "    :Précondition: p est non vide\n",
    "    \"\"\"\n",
    "    assert not est_vide(p), \"Impossible de dépiler une pile vide\"\n",
    "    return p.pop()\n",
    "\n",
    "\n",
    "def afficher_pile(p):\n",
    "    \"\"\" Affiche le contenu d'une pile\n",
    "    :param p : Une pile\n",
    "    :return: None\n",
    "    \"\"\"\n",
    "    print(\"-\" * 20)\n",
    "    for element in p[::-1]:\n",
    "        print(\"|\" + \" \" * 18 + \"|\")\n",
    "        print(\"|\" + str(element).center(18) + \"|\")\n",
    "        print(\"|\" + \" \" * 18 + \"|\")\n",
    "        print(\"-\" * 20)\n",
    "    print(\"-\" * 20)"
   ]
  },
  {
   "cell_type": "markdown",
   "id": "551c53c4",
   "metadata": {},
   "source": [
    "# Exercice 1 : Manipulation de base (niveau facile)\n",
    "\n",
    "1) Quel est l'état de la pile p1 après l'exécution de ces instructions ?"
   ]
  },
  {
   "cell_type": "code",
   "execution_count": 3,
   "id": "873e1293",
   "metadata": {},
   "outputs": [
    {
     "name": "stdout",
     "output_type": "stream",
     "text": [
      "--------------------\n",
      "|                  |\n",
      "|        5         |\n",
      "|                  |\n",
      "--------------------\n",
      "|                  |\n",
      "|        4         |\n",
      "|                  |\n",
      "--------------------\n",
      "|                  |\n",
      "|        3         |\n",
      "|                  |\n",
      "--------------------\n",
      "|                  |\n",
      "|        2         |\n",
      "|                  |\n",
      "--------------------\n",
      "|                  |\n",
      "|        1         |\n",
      "|                  |\n",
      "--------------------\n",
      "|                  |\n",
      "|        0         |\n",
      "|                  |\n",
      "--------------------\n",
      "--------------------\n"
     ]
    }
   ],
   "source": [
    "p1 = creer_pile()\n",
    "\n",
    "for i in range(6):\n",
    "    empiler(p1, i)\n",
    "    \n",
    "afficher_pile(p1)"
   ]
  },
  {
   "cell_type": "markdown",
   "id": "6913ed71",
   "metadata": {},
   "source": [
    "3) Quel est l'état de la pile p2 après l'éxécution de ces instructions ?"
   ]
  },
  {
   "cell_type": "code",
   "execution_count": 4,
   "id": "691736b8",
   "metadata": {},
   "outputs": [
    {
     "name": "stdout",
     "output_type": "stream",
     "text": [
      "--------------------\n",
      "|                  |\n",
      "|        h         |\n",
      "|                  |\n",
      "--------------------\n",
      "|                  |\n",
      "|        t         |\n",
      "|                  |\n",
      "--------------------\n",
      "|                  |\n",
      "|        y         |\n",
      "|                  |\n",
      "--------------------\n",
      "|                  |\n",
      "|        P         |\n",
      "|                  |\n",
      "--------------------\n",
      "--------------------\n"
     ]
    }
   ],
   "source": [
    "p2 = creer_pile()\n",
    "\n",
    "for i in \"Python\":\n",
    "    empiler(p2, i)\n",
    "\n",
    "for i in range(2):\n",
    "    depiler(p2)\n",
    "    \n",
    "afficher_pile(p2)"
   ]
  },
  {
   "cell_type": "markdown",
   "id": "70fa6222",
   "metadata": {},
   "source": [
    "3) Crééez une fonction `pile_alternee` qui prend un paramètre un entier `n` et qui renvoie la pile contenant de bas en haut `0, -1, 2, -3, 4...` jusqu'à n (on veut `i` si `i` est pair et `-i` si `i` est impair, pour tout `i` dans l'intervale `[0, n]`)."
   ]
  },
  {
   "cell_type": "code",
   "execution_count": 5,
   "id": "aa811a68",
   "metadata": {},
   "outputs": [
    {
     "name": "stdout",
     "output_type": "stream",
     "text": [
      "--------------------\n",
      "|                  |\n",
      "|        10        |\n",
      "|                  |\n",
      "--------------------\n",
      "|                  |\n",
      "|        -9        |\n",
      "|                  |\n",
      "--------------------\n",
      "|                  |\n",
      "|        8         |\n",
      "|                  |\n",
      "--------------------\n",
      "|                  |\n",
      "|        -7        |\n",
      "|                  |\n",
      "--------------------\n",
      "|                  |\n",
      "|        6         |\n",
      "|                  |\n",
      "--------------------\n",
      "|                  |\n",
      "|        -5        |\n",
      "|                  |\n",
      "--------------------\n",
      "|                  |\n",
      "|        4         |\n",
      "|                  |\n",
      "--------------------\n",
      "|                  |\n",
      "|        -3        |\n",
      "|                  |\n",
      "--------------------\n",
      "|                  |\n",
      "|        2         |\n",
      "|                  |\n",
      "--------------------\n",
      "|                  |\n",
      "|        -1        |\n",
      "|                  |\n",
      "--------------------\n",
      "|                  |\n",
      "|        0         |\n",
      "|                  |\n",
      "--------------------\n",
      "--------------------\n"
     ]
    }
   ],
   "source": [
    "def pile_alternee(n):\n",
    "    p = creer_pile()\n",
    "    for i in range(n + 1):\n",
    "        if i % 2 == 0:\n",
    "            empiler(p, i)\n",
    "        else:\n",
    "            empiler(p, -i)\n",
    "    return p\n",
    "\n",
    "afficher_pile(pile_alternee(10))"
   ]
  },
  {
   "cell_type": "markdown",
   "id": "649cc3cb",
   "metadata": {},
   "source": [
    "# Exercice 2 : Nouvelles fonctions sur la pile\n",
    "\n",
    "Dans les questions qui suivent, on ne manipulera le contenu de la pile qu'à l'aide de son interface.\n",
    "\n",
    "1) Écrivez une fonction `vider_pile` qui prend en argument une pile, la vide, et ne renvoie rien.\n",
    "\n",
    "2) Écrivez une fonction `sommet_pile` qui prend en argument une pile et renvoie l'élément se trouvant au sommet. Le contenu de la pile avant et après l'exécution de la fonction doit rester le même. Dans le cas où la pile est vide on renverra `None`.\n",
    "\n",
    "3) Écrivez une fonction `inverser_pile` qui prend en argument une pile et inverse la pile (les éléments au fond de la pile sont maintenant au dessus de la pile et inversement). Cette fonction ne renvoie rien.\n",
    "\n",
    "4) Écrivez une fonction `taille_pile` qui prend en argument une pile et renvoie le nombre d'éléments qu'elle contient. Le contenu de la pile avant et après l'exécution de la fonction doit rester le même."
   ]
  },
  {
   "cell_type": "code",
   "execution_count": 33,
   "id": "88fb04b0",
   "metadata": {},
   "outputs": [
    {
     "name": "stdout",
     "output_type": "stream",
     "text": [
      "--------------------\n",
      "|                  |\n",
      "|        2         |\n",
      "|                  |\n",
      "--------------------\n",
      "|                  |\n",
      "|        1         |\n",
      "|                  |\n",
      "--------------------\n",
      "|                  |\n",
      "|        0         |\n",
      "|                  |\n",
      "--------------------\n",
      "--------------------\n"
     ]
    }
   ],
   "source": [
    "def vider_pile(p):\n",
    "    while not est_vide(p):\n",
    "        depiler(p)\n",
    "        \n",
    "def sommet_pile(p):\n",
    "    if est_vide(p):\n",
    "        res = None\n",
    "    else:\n",
    "        res = depiler(p)\n",
    "        empiler(p, res)\n",
    "    return res\n",
    "\n",
    "def inverser_pile(p):\n",
    "    tmp = []\n",
    "    while not est_vide(p):\n",
    "        tmp.append(depiler(p))\n",
    "    for element in tmp:\n",
    "        empiler(p, element)\n",
    "\n",
    "def taille_pile(p):\n",
    "    tmp = []\n",
    "    res = 0\n",
    "    while not est_vide(p):\n",
    "        tmp.append(depiler(p))\n",
    "        res = res + 1\n",
    "    for element in tmp:\n",
    "        empiler(p, element)\n",
    "    return res\n",
    "\n",
    "\n",
    "p1 = creer_pile()\n",
    "for i in range(3):\n",
    "    empiler(p1, i)\n",
    "afficher_pile(p1)"
   ]
  },
  {
   "cell_type": "code",
   "execution_count": 34,
   "id": "e9ec151b",
   "metadata": {},
   "outputs": [
    {
     "data": {
      "text/plain": [
       "2"
      ]
     },
     "execution_count": 34,
     "metadata": {},
     "output_type": "execute_result"
    }
   ],
   "source": [
    "sommet_pile(p1)"
   ]
  },
  {
   "cell_type": "code",
   "execution_count": 35,
   "id": "365d37ba",
   "metadata": {},
   "outputs": [
    {
     "name": "stdout",
     "output_type": "stream",
     "text": [
      "--------------------\n",
      "|                  |\n",
      "|        0         |\n",
      "|                  |\n",
      "--------------------\n",
      "|                  |\n",
      "|        1         |\n",
      "|                  |\n",
      "--------------------\n",
      "|                  |\n",
      "|        2         |\n",
      "|                  |\n",
      "--------------------\n",
      "--------------------\n"
     ]
    }
   ],
   "source": [
    "inverser_pile(p1)\n",
    "afficher_pile(p1)"
   ]
  },
  {
   "cell_type": "code",
   "execution_count": 37,
   "id": "322aebee",
   "metadata": {},
   "outputs": [
    {
     "data": {
      "text/plain": [
       "3"
      ]
     },
     "execution_count": 37,
     "metadata": {},
     "output_type": "execute_result"
    }
   ],
   "source": [
    "taille_pile(p1)"
   ]
  },
  {
   "cell_type": "code",
   "execution_count": 38,
   "id": "43e85eb5",
   "metadata": {},
   "outputs": [
    {
     "name": "stdout",
     "output_type": "stream",
     "text": [
      "--------------------\n",
      "--------------------\n"
     ]
    }
   ],
   "source": [
    "vider_pile(p1)\n",
    "afficher_pile(p1)"
   ]
  },
  {
   "cell_type": "markdown",
   "id": "dff78dd2",
   "metadata": {},
   "source": [
    "# Exercice 3 : Bon parenthésage (niveau facile)\n",
    "\n",
    "On souhaite écrire une fonction `est_bien_parenthesee` qui prend en argument une chaîne de caractères composée de parentèses ouvrantes `(` et fermante `)` et qui renvoie un booléen en fonction de si la chaîne est bien parenthésée ou non. Par exemple :\n",
    "\n",
    "* La chaîne `((())())` est bien parenthésée : à toute parenthèse ouvrante correspond une parenthèse fermante.\n",
    "* La chaîne `((())` n'est pas bien parenthésée : la première parenthèse ouvrante n'est jamais fermée.\n",
    "* La chaîne `())(` n'est pas bien parenthésée : la deuxième parenthèse fermante se trouve avant la deuxième parenthèse ouvrante dans la chaîne.\n",
    "\n",
    "La fonction `est_bien_parenthesee` doit utiliser une pile pour vérifier le parenthésage."
   ]
  },
  {
   "cell_type": "code",
   "execution_count": 46,
   "id": "939c47cf",
   "metadata": {},
   "outputs": [],
   "source": [
    "def est_bien_parenthesee(s):\n",
    "    p = creer_pile()\n",
    "    for c in s:\n",
    "        if c == \"(\":\n",
    "            empiler(p, c)\n",
    "        elif est_vide(p):\n",
    "            return False\n",
    "        else:\n",
    "            depiler(p)\n",
    "    return est_vide(p)"
   ]
  },
  {
   "cell_type": "code",
   "execution_count": 47,
   "id": "7e9ddf9f",
   "metadata": {},
   "outputs": [
    {
     "data": {
      "text/plain": [
       "True"
      ]
     },
     "execution_count": 47,
     "metadata": {},
     "output_type": "execute_result"
    }
   ],
   "source": [
    "est_bien_parenthesee(\"((())())\")"
   ]
  },
  {
   "cell_type": "code",
   "execution_count": 48,
   "id": "ba281ef0",
   "metadata": {},
   "outputs": [
    {
     "data": {
      "text/plain": [
       "False"
      ]
     },
     "execution_count": 48,
     "metadata": {},
     "output_type": "execute_result"
    }
   ],
   "source": [
    "est_bien_parenthesee(\"((())\")"
   ]
  },
  {
   "cell_type": "code",
   "execution_count": 49,
   "id": "b760aec0",
   "metadata": {},
   "outputs": [
    {
     "data": {
      "text/plain": [
       "False"
      ]
     },
     "execution_count": 49,
     "metadata": {},
     "output_type": "execute_result"
    }
   ],
   "source": [
    "est_bien_parenthesee(\"())(\")"
   ]
  },
  {
   "cell_type": "markdown",
   "id": "9d45a6d8",
   "metadata": {},
   "source": [
    "# Exercice 4 : Expressions postfixées (niveau moyen)\n",
    "\n",
    "Lorsque l'on écrit une expression mathématique (par exemple `3 + 5`), on utilise par convention la notation infixée, où l'opérateur mathématiques (`+`) se trouve entre les deux opérandes (`3` et `5`). Toutefois il existe un alternative : la notation infixée (ou notation polonaise), dans laquelle on place l'opérateur à la suite de ses deux opérandes. Ainsi, l'expression qui se note `3 + 5` en notation infixée devient `3 5 +` en notation postfixée. L'avantage de cette notation est que l'on peut se passer de parenthèses. Le calcul `(3 + 5) * (4 - 2)` devient simplement `3 5 + 4 2 - *`. Notez qu'il est impossible de garder la notation infixée en enlevant les parenthèses sans changer la valeur de l'expression.\n",
    "\n",
    "Le but de cet exercice est d'écrire une fonction `evaluer_postfixee` qui prend en valeur une expression postfixée (que l'on supposera valide), et qui en s'aidant d'une pile renvoie la valeur correspondante à cette expression.\n",
    "\n",
    "## Partie 1\n",
    "\n",
    "1) Dans la chaîne de caractères passée en argument, les différents opéranteurs et opérandes sont séparés par un espace. En vous aidant de la fonction `split` (vous pouvez consulter sa documentation avec `help`), écrivez une fonction `separer_expression` qui renvoie une liste contenant les opérandes et les opérateurs à partir de la chaîne passée en argument.\n",
    "\n",
    "2) Écrivez une fonction `est_operateur` qui prend en argument une chaîne de caractères et renvoie `True` si celle-ci représente un opérateur mathématique (`+, -, *, /`), et `False` sinon.\n",
    "\n",
    "## Partie 2\n",
    "\n",
    "3) Écrivez maintenant la fonction `evaluer_postfixee` telle qu'elle est spécifié au début de l'énoncé. Pour ce faire, on doit parcourir les éléments d'une liste qui contient les opérandes et les opérateurs. Pour ce faire on empilera toutes les opérandes que l'on rencontre sur une pile, puis lorsque l'on rencontre un opérateur, on l'applique aux deux opérandes en haut de la pile, et on empile le résultat. La fonction `eval` permet d'évaluer une chaîne de caractères. Par exemple `eval(\"3+5\")` va renvoyer `8`."
   ]
  },
  {
   "cell_type": "code",
   "execution_count": 72,
   "id": "b92525cf",
   "metadata": {},
   "outputs": [],
   "source": [
    "def separer_expression(s):\n",
    "    return s.split(\" \")\n",
    "\n",
    "def est_operateur(s):\n",
    "    return s == \"+\" or s == \"-\" or s == \"*\" or s == \"/\"\n",
    "\n",
    "def evaluer_postfixee(s):\n",
    "    p = creer_pile()\n",
    "    for c in separer_expression(s):\n",
    "        if est_operateur(c):\n",
    "            x = depiler(p)\n",
    "            y = depiler(p)\n",
    "            empiler(p, str(eval(y + c + x)))\n",
    "        else:\n",
    "            empiler(p, c)\n",
    "    return int(depiler(p))"
   ]
  },
  {
   "cell_type": "code",
   "execution_count": 73,
   "id": "311fa614",
   "metadata": {},
   "outputs": [
    {
     "data": {
      "text/plain": [
       "['3', '5', '+', '4', '2', '-', '*']"
      ]
     },
     "execution_count": 73,
     "metadata": {},
     "output_type": "execute_result"
    }
   ],
   "source": [
    "separer_expression(\"3 5 + 4 2 - *\")"
   ]
  },
  {
   "cell_type": "code",
   "execution_count": 74,
   "id": "7ae5e865",
   "metadata": {},
   "outputs": [
    {
     "data": {
      "text/plain": [
       "False"
      ]
     },
     "execution_count": 74,
     "metadata": {},
     "output_type": "execute_result"
    }
   ],
   "source": [
    "est_operateur(\"3\")"
   ]
  },
  {
   "cell_type": "code",
   "execution_count": 75,
   "id": "5ea6eea9",
   "metadata": {},
   "outputs": [
    {
     "data": {
      "text/plain": [
       "True"
      ]
     },
     "execution_count": 75,
     "metadata": {},
     "output_type": "execute_result"
    }
   ],
   "source": [
    "est_operateur(\"+\")"
   ]
  },
  {
   "cell_type": "code",
   "execution_count": 69,
   "id": "ef51705e",
   "metadata": {},
   "outputs": [
    {
     "data": {
      "text/plain": [
       "8"
      ]
     },
     "execution_count": 69,
     "metadata": {},
     "output_type": "execute_result"
    }
   ],
   "source": [
    "evaluer_postfixee(\"3 5 +\")"
   ]
  },
  {
   "cell_type": "code",
   "execution_count": 70,
   "id": "315064ad",
   "metadata": {},
   "outputs": [
    {
     "data": {
      "text/plain": [
       "16"
      ]
     },
     "execution_count": 70,
     "metadata": {},
     "output_type": "execute_result"
    }
   ],
   "source": [
    "evaluer_postfixee(\"3 5 + 4 2 - *\")"
   ]
  },
  {
   "cell_type": "code",
   "execution_count": 71,
   "id": "556dd579",
   "metadata": {},
   "outputs": [
    {
     "data": {
      "text/plain": [
       "-3"
      ]
     },
     "execution_count": 71,
     "metadata": {},
     "output_type": "execute_result"
    }
   ],
   "source": [
    "evaluer_postfixee(\"3 5 4 2 + - *\")"
   ]
  },
  {
   "cell_type": "markdown",
   "id": "8de4f7c8",
   "metadata": {},
   "source": [
    "# Exercice 5 : Tri de crêpes (niveau moyen)\n",
    "\n",
    "Le document [sujet_0_ex_1.pdf](sujet_0_ex_1.pdf) contient un exercice extrait du sujet 0 pour l'épreuve de NSI ayant pour sujet les piles. Les questions 1 est similaire à des questions vues plus haut. La question 2 consiste à écrire une fonction calculant la haure de la pile (comme plus tôt dans ce TD), et une autre renvoyant l'indice du plus grand élément de la pile. La quetion 3 consiste à écrirer une fonction pour inverser les `j` premiers éléments de la pile (vous pouvez adapter la fonction `inverser_pile` de l'exercice 2. Vous triterez ensuite la question 4, qui présente le problème du tri de crêpes, lequel peut être modélisé et résolu avec une structure de pile."
   ]
  },
  {
   "cell_type": "code",
   "execution_count": 131,
   "id": "b756d7c2",
   "metadata": {},
   "outputs": [],
   "source": [
    "def max_pile(p, i):\n",
    "    indice = 1\n",
    "    indice_max = 1\n",
    "    val_max = depiler(p)\n",
    "    tmp = [val_max]\n",
    "    while indice < i:\n",
    "        indice = indice + 1\n",
    "        val = depiler(p)\n",
    "        tmp.append(val)\n",
    "        if val > val_max:\n",
    "            indice_max = indice\n",
    "            val_max = val\n",
    "    for k in range(len(tmp) - 1, -1, -1):\n",
    "        empiler(p, tmp[k])\n",
    "    return indice_max\n",
    "\n",
    "def inverser_pile_j(p, j):\n",
    "    i = 0\n",
    "    tmp = []\n",
    "    while i < j:\n",
    "        i = i + 1\n",
    "        tmp.append(depiler(p))\n",
    "    for element in tmp:\n",
    "        empiler(p, element)\n",
    "        \n",
    "def tri_crepes(p):\n",
    "    taille = taille_pile(p)\n",
    "    for i in range(taille):\n",
    "        indice_max = max_pile(p, taille - i)\n",
    "        inverser_pile_j(p, indice_max)\n",
    "        inverser_pile_j(p, taille - i)"
   ]
  },
  {
   "cell_type": "code",
   "execution_count": 133,
   "id": "1bedafc9",
   "metadata": {},
   "outputs": [
    {
     "name": "stdout",
     "output_type": "stream",
     "text": [
      "--------------------\n",
      "|                  |\n",
      "|        7         |\n",
      "|                  |\n",
      "--------------------\n",
      "|                  |\n",
      "|        14        |\n",
      "|                  |\n",
      "--------------------\n",
      "|                  |\n",
      "|        12        |\n",
      "|                  |\n",
      "--------------------\n",
      "|                  |\n",
      "|        5         |\n",
      "|                  |\n",
      "--------------------\n",
      "|                  |\n",
      "|        8         |\n",
      "|                  |\n",
      "--------------------\n",
      "--------------------\n"
     ]
    }
   ],
   "source": [
    "p1 = creer_pile()\n",
    "for i in [8, 5, 12, 14, 7]:\n",
    "    empiler(p1, i)\n",
    "afficher_pile(p1)"
   ]
  },
  {
   "cell_type": "code",
   "execution_count": 134,
   "id": "4352c07b",
   "metadata": {},
   "outputs": [
    {
     "name": "stdout",
     "output_type": "stream",
     "text": [
      "--------------------\n",
      "|                  |\n",
      "|        5         |\n",
      "|                  |\n",
      "--------------------\n",
      "|                  |\n",
      "|        7         |\n",
      "|                  |\n",
      "--------------------\n",
      "|                  |\n",
      "|        8         |\n",
      "|                  |\n",
      "--------------------\n",
      "|                  |\n",
      "|        12        |\n",
      "|                  |\n",
      "--------------------\n",
      "|                  |\n",
      "|        14        |\n",
      "|                  |\n",
      "--------------------\n",
      "--------------------\n"
     ]
    }
   ],
   "source": [
    "tri_crepes(p1)\n",
    "afficher_pile(p1)"
   ]
  },
  {
   "cell_type": "markdown",
   "id": "f1b42368",
   "metadata": {},
   "source": [
    "# Exercice 6 : Implémentation d'une pile par une classe (niveau moyen)\n",
    "\n",
    "On souhaite maintenant écrire une nouvelle implémentation de la structure de pile dans une classe `Pile`. Cette nouvelle classe aura 3 attributs :\n",
    "\n",
    "* `contenu` : une liste représentant le contenu de la pile\n",
    "* `taille_max` : le nombre maximum d'élément que peut contenir la pile\n",
    "* `taille` : le nombre d'élément contenu dans la pile\n",
    "\n",
    "1) Écrivez la méthode spéciale `__init__` permettant de construire un objet pile. Celle-ci prend en agument le nombre maximum d'élément que peut contenir la pile. Lorsque l'on créé une nouvelle pile, le contenu est une liste contenant `taille_max` fois l'élément `None`.\n",
    "\n",
    "2) Écrivez la méthode `est_vide`.\n",
    "\n",
    "3.a) Quels sont les attributs qui seront modifiés lorsque l'on dépile ou l'on empile un élément ?\n",
    "\n",
    "3.b) Quelle sont les conditions que doivent vérifier les méthodes responsables de l'empillement et du dépillement ?\n",
    "\n",
    "3.c) Écrivez les méthodes `empiler` qui ajoute une élément au sommet de la pile, et `dépiler` qui renvoie l'élément au sommet de la pile (en ayant pris soin de le remplacer par un `None` auparavant)."
   ]
  },
  {
   "cell_type": "code",
   "execution_count": 76,
   "id": "0c74d23c",
   "metadata": {},
   "outputs": [],
   "source": [
    "class Pile:\n",
    "    def __init__(self, taille_max):\n",
    "        self.taille_max = taille_max\n",
    "        self.taille = 0\n",
    "        self.contenu = [None for i in range(taille_max)]\n",
    "        \n",
    "    def est_vide(self):\n",
    "        return self.taille == 0\n",
    "    \n",
    "    def empiler(self, element):\n",
    "        assert self.taille < self.taille_max, \"Impossible d'empiler sur une pile pleine\"\n",
    "        self.contenu[self.taille] = element\n",
    "        self.taille = self.taille + 1\n",
    "    \n",
    "    def depiler(self):\n",
    "        assert not p.est_vide(), \"Impossible de dépiler une pile vide\"\n",
    "        res = self.contenu[self.taille - 1]\n",
    "        self.contenu[self.taille - 1] = None\n",
    "        self.taille = self.taille - 1\n",
    "        return res"
   ]
  },
  {
   "cell_type": "markdown",
   "id": "4303f551",
   "metadata": {},
   "source": [
    "# Exercice 7 : Vérification d'un document HTML (niveau moyen)\n",
    "\n",
    "Cet exercice est adapté d'une [activité](https://gitlab-fil.univ-lille.fr/capes/portail/-/blob/master/ue1/pile_et_file/pile.md) proposée par le FIL.\n",
    "\n",
    "Le langage HTML est un langage à balise : il possède des balises qui permettent de décrire le contenu des pages web. La plupart de ces balises fonctionnent par paire, c'est à dire que la balise ouvrante (par exemple `<p>` qui débute un paragraphe) doit obligatoirement être suivie plus loin de la balise fermante correspondante (`</p>` dans le cas d'un paragraphe). Le but de cet exercice est d'écrire une fonction qui vérifie le bon balisage d'un document HTML.\n",
    "\n",
    "## Partie 1\n",
    "\n",
    "1) Écrivez une fonction `est_balise_fermante` qui renvoie `True` si la chaîne de caractères passée en argument correspond à une balise fermante, et `False` sinon. \n",
    "\n",
    "2) Écrivez une fonction `est_paire_balises` qui prend en argument deux chaînes de caractères et renvoie `True` si la première est une balise ouvrante et la deuxième est la balise fermante correspondante, et `False` sinon."
   ]
  },
  {
   "cell_type": "code",
   "execution_count": 85,
   "id": "c6a723dc",
   "metadata": {},
   "outputs": [],
   "source": [
    "def est_balise_fermante(s):\n",
    "    return s[1] == \"/\"\n",
    "\n",
    "def est_paire_balises(s1, s2):\n",
    "    return s1 == s2[0] + s2[2:]"
   ]
  },
  {
   "cell_type": "code",
   "execution_count": 86,
   "id": "afd6fe96",
   "metadata": {},
   "outputs": [
    {
     "data": {
      "text/plain": [
       "False"
      ]
     },
     "execution_count": 86,
     "metadata": {},
     "output_type": "execute_result"
    }
   ],
   "source": [
    "est_balise_fermante(\"<div>\")"
   ]
  },
  {
   "cell_type": "code",
   "execution_count": 87,
   "id": "4b24ce55",
   "metadata": {},
   "outputs": [
    {
     "data": {
      "text/plain": [
       "True"
      ]
     },
     "execution_count": 87,
     "metadata": {},
     "output_type": "execute_result"
    }
   ],
   "source": [
    "est_balise_fermante(\"</div>\")"
   ]
  },
  {
   "cell_type": "code",
   "execution_count": 88,
   "id": "09390039",
   "metadata": {},
   "outputs": [
    {
     "data": {
      "text/plain": [
       "True"
      ]
     },
     "execution_count": 88,
     "metadata": {},
     "output_type": "execute_result"
    }
   ],
   "source": [
    "est_paire_balises(\"<div>\", \"</div>\")"
   ]
  },
  {
   "cell_type": "code",
   "execution_count": 89,
   "id": "b37e7966",
   "metadata": {},
   "outputs": [
    {
     "data": {
      "text/plain": [
       "False"
      ]
     },
     "execution_count": 89,
     "metadata": {},
     "output_type": "execute_result"
    }
   ],
   "source": [
    "est_paire_balises(\"<div>\", \"</p>\")"
   ]
  },
  {
   "cell_type": "markdown",
   "id": "1555f5ca",
   "metadata": {},
   "source": [
    "## Partie 2\n",
    "\n",
    "On fournit un dossier [html_ex](html_ex) qui contient 4 exemples fichiers HTML (le 1er et le 4ème sont correctement balisés, et les deux autres ne le sont pas).\n",
    "\n",
    "On fournit également un module [myhtml_parser](my_html_parser.py) dans lequel on trouve :\n",
    "\n",
    "* Une fonction html_to_str qui prend en argument le chemin vers un fichier HTML, et renvoie le contenu de ce fichier sous la forme d'une chaîne de caractères.\n",
    "\n",
    "* Une classe MyHTMLParser qui permet d'accéder aux balises (en anglais tags) d'un document HTML. On instancie un objet de cette classe à partir d'une chaîne de caractère qui contient le contenu d'un fichier HTML. \n",
    "\n",
    "Voici comment on peut utiliser ces élements :"
   ]
  },
  {
   "cell_type": "code",
   "execution_count": 92,
   "id": "d8429ff8",
   "metadata": {},
   "outputs": [
    {
     "name": "stdout",
     "output_type": "stream",
     "text": [
      "<!DOCTYPE html><html lang=\"fr-FR\"><body><h1> Un titre </h1><p> un paragraphe </p></body></html>\n"
     ]
    }
   ],
   "source": [
    "from myhtml_parser import html_to_str, MyHTMLParser\n",
    "\n",
    "s = html_to_str(\"html_ex/ex1.html\")\n",
    "print(s)"
   ]
  },
  {
   "cell_type": "code",
   "execution_count": 93,
   "id": "20c9c391",
   "metadata": {},
   "outputs": [
    {
     "name": "stdout",
     "output_type": "stream",
     "text": [
      "<html>\n",
      "<body>\n",
      "<h1>\n",
      "</h1>\n",
      "<p>\n",
      "</p>\n",
      "</body>\n",
      "</html>\n"
     ]
    }
   ],
   "source": [
    "parser = MyHTMLParser(s)\n",
    "while parser.has_tag():\n",
    "    print(parser.next_tag())"
   ]
  },
  {
   "cell_type": "markdown",
   "id": "92e6e9ec",
   "metadata": {},
   "source": [
    "3) En utilisant les éléments du module [myhtml_parser](my_html_parser.py), vos fonctions de la partie 1 et une pile, écrivez une fonction `verfier_html` qui prend un argument une chaîne de caractère correspondant au chemin vers un fichier HTML, et qui renvoie `True` si le document est bien balisé et `False` sinon.\n",
    "\n",
    "Un document est bien balisé si toute balise ouvrante est fermée plus loins, si aucune balise fermante n'apparaît avant la balise ouvrante correspondante et si les balises ne se chauvauchent pas (elles doivent être fermées dans l'odre inverse de leur ouverture).\n",
    "\n",
    "Résultats attendus :\n",
    "\n",
    "```Python\n",
    ">>> verifier_html(\"html_ex/ex1.html\")\n",
    "True\n",
    ">>> verifier_html(\"html_ex/ex2.html\")\n",
    "False\n",
    ">>> verifier_html(\"html_ex/ex3.html\")\n",
    "False\n",
    ">>> verifier_html(\"html_ex/ex4.html\")\n",
    "True\n",
    "```"
   ]
  },
  {
   "cell_type": "code",
   "execution_count": 96,
   "id": "f5863dcf",
   "metadata": {},
   "outputs": [],
   "source": [
    "from myhtml_parser import MyHTMLParser, html_to_str\n",
    "\n",
    "def verifier_html(fname):\n",
    "    parser = MyHTMLParser(html_to_str(fname))\n",
    "    p = creer_pile()\n",
    "    while parser.has_tag():\n",
    "        tag = parser.next_tag()\n",
    "        if not est_balise_fermante(tag):\n",
    "            empiler(p, tag)\n",
    "        elif est_vide(p) or not est_paire_balises(depiler(p), tag):\n",
    "            return False\n",
    "    return est_vide(p)            "
   ]
  },
  {
   "cell_type": "code",
   "execution_count": 97,
   "id": "c45f5abf",
   "metadata": {},
   "outputs": [
    {
     "data": {
      "text/plain": [
       "True"
      ]
     },
     "execution_count": 97,
     "metadata": {},
     "output_type": "execute_result"
    }
   ],
   "source": [
    "verifier_html(\"html_ex/ex1.html\")"
   ]
  },
  {
   "cell_type": "code",
   "execution_count": 98,
   "id": "dab140eb",
   "metadata": {},
   "outputs": [
    {
     "data": {
      "text/plain": [
       "False"
      ]
     },
     "execution_count": 98,
     "metadata": {},
     "output_type": "execute_result"
    }
   ],
   "source": [
    "verifier_html(\"html_ex/ex2.html\")"
   ]
  },
  {
   "cell_type": "code",
   "execution_count": 99,
   "id": "c3afa305",
   "metadata": {},
   "outputs": [
    {
     "data": {
      "text/plain": [
       "False"
      ]
     },
     "execution_count": 99,
     "metadata": {},
     "output_type": "execute_result"
    }
   ],
   "source": [
    "verifier_html(\"html_ex/ex3.html\")"
   ]
  },
  {
   "cell_type": "code",
   "execution_count": 100,
   "id": "9b59a701",
   "metadata": {},
   "outputs": [
    {
     "data": {
      "text/plain": [
       "True"
      ]
     },
     "execution_count": 100,
     "metadata": {},
     "output_type": "execute_result"
    }
   ],
   "source": [
    "verifier_html(\"html_ex/ex4.html\")"
   ]
  }
 ],
 "metadata": {
  "kernelspec": {
   "display_name": "Python 3 (ipykernel)",
   "language": "python",
   "name": "python3"
  },
  "language_info": {
   "codemirror_mode": {
    "name": "ipython",
    "version": 3
   },
   "file_extension": ".py",
   "mimetype": "text/x-python",
   "name": "python",
   "nbconvert_exporter": "python",
   "pygments_lexer": "ipython3",
   "version": "3.7.3"
  }
 },
 "nbformat": 4,
 "nbformat_minor": 5
}
