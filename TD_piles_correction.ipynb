{
 "cells": [
  {
   "cell_type": "markdown",
   "id": "7bf562e5",
   "metadata": {},
   "source": [
    "Pour tous les exercices à l'exception du 6, on utilisera la première implémentation de pile fournie dans le cours :"
   ]
  },
  {
   "cell_type": "code",
   "execution_count": 73,
   "id": "0387fb9a",
   "metadata": {},
   "outputs": [],
   "source": [
    "def creer_pile():\n",
    "    \"\"\" Créé une pile vide\n",
    "    :return: Une pile vide représentée par la liste vide\n",
    "    \"\"\"\n",
    "    return []\n",
    "\n",
    "\n",
    "def est_vide(p):\n",
    "    \"\"\" Teste si une pile est vide\n",
    "    :param p: Une pile\n",
    "    :return: True si p est vide, False sinon\n",
    "    \"\"\"\n",
    "    return p == []\n",
    "\n",
    "\n",
    "def empiler(p, e):\n",
    "    \"\"\" Empile un élément au sommet d'une pile\n",
    "    :param p: Une pile\n",
    "    :param e: Un élément\n",
    "    :return: None\n",
    "    :Effets: Empile e au sommet de p\n",
    "    \"\"\"\n",
    "    p.append(e)\n",
    "    \n",
    "\n",
    "def depiler(p):\n",
    "    \"\"\" Dépile un élément au sommet d'une pile et le renvoie\n",
    "    :param p: Une pile\n",
    "    :return: L'élément au sommet de la pile\n",
    "    :Précondition: p est non vide\n",
    "    \"\"\"\n",
    "    assert not est_vide(p), \"Impossible de dépiler une pile vide\"\n",
    "    return p.pop()\n",
    "\n",
    "\n",
    "def afficher_pile(p):\n",
    "    \"\"\" Affiche le contenu d'une pile\n",
    "    :param p : Une pile\n",
    "    :return: None\n",
    "    \"\"\"\n",
    "    print(\"-\" * 20)\n",
    "    for element in p[::-1]:\n",
    "        print(\"|\" + \" \" * 18 + \"|\")\n",
    "        print(\"|\" + str(element).center(18) + \"|\")\n",
    "        print(\"|\" + \" \" * 18 + \"|\")\n",
    "        print(\"-\" * 20)\n",
    "    print(\"-\" * 20)"
   ]
  },
  {
   "cell_type": "markdown",
   "id": "551c53c4",
   "metadata": {},
   "source": [
    "# Exercice 1 : Manipulation de base (niveau facile)\n",
    "\n",
    "1) Quel est l'état de la pile p1 après l'exécution de ces instructions ?"
   ]
  },
  {
   "cell_type": "code",
   "execution_count": 74,
   "id": "873e1293",
   "metadata": {},
   "outputs": [
    {
     "name": "stdout",
     "output_type": "stream",
     "text": [
      "--------------------\n",
      "|                  |\n",
      "|        5         |\n",
      "|                  |\n",
      "--------------------\n",
      "|                  |\n",
      "|        4         |\n",
      "|                  |\n",
      "--------------------\n",
      "|                  |\n",
      "|        3         |\n",
      "|                  |\n",
      "--------------------\n",
      "|                  |\n",
      "|        2         |\n",
      "|                  |\n",
      "--------------------\n",
      "|                  |\n",
      "|        1         |\n",
      "|                  |\n",
      "--------------------\n",
      "|                  |\n",
      "|        0         |\n",
      "|                  |\n",
      "--------------------\n",
      "--------------------\n"
     ]
    }
   ],
   "source": [
    "p1 = creer_pile()\n",
    "\n",
    "for i in range(6):\n",
    "    empiler(p1, i)\n",
    "    \n",
    "afficher_pile(p1)"
   ]
  },
  {
   "cell_type": "markdown",
   "id": "6913ed71",
   "metadata": {},
   "source": [
    "2) Quel est l'état de la pile p2 après l'exécution de ces instructions ?"
   ]
  },
  {
   "cell_type": "code",
   "execution_count": 75,
   "id": "691736b8",
   "metadata": {},
   "outputs": [
    {
     "name": "stdout",
     "output_type": "stream",
     "text": [
      "--------------------\n",
      "|                  |\n",
      "|        h         |\n",
      "|                  |\n",
      "--------------------\n",
      "|                  |\n",
      "|        t         |\n",
      "|                  |\n",
      "--------------------\n",
      "|                  |\n",
      "|        y         |\n",
      "|                  |\n",
      "--------------------\n",
      "|                  |\n",
      "|        P         |\n",
      "|                  |\n",
      "--------------------\n",
      "--------------------\n"
     ]
    }
   ],
   "source": [
    "p2 = creer_pile()\n",
    "\n",
    "for i in \"Python\":\n",
    "    empiler(p2, i)\n",
    "\n",
    "for i in range(2):\n",
    "    depiler(p2)\n",
    "    \n",
    "afficher_pile(p2)"
   ]
  },
  {
   "cell_type": "markdown",
   "id": "70fa6222",
   "metadata": {},
   "source": [
    "3) Créer une fonction `pile_alternee` qui prend un paramètre un entier `n` et qui renvoie la pile contenant de bas en haut `0, -1, 2, -3, 4...` jusqu'à n (on veut `i` si `i` est pair et `-i` si `i` est impair, pour tout `i` dans l'intervalle `[0, n]`)."
   ]
  },
  {
   "cell_type": "code",
   "execution_count": 76,
   "id": "378f29b0",
   "metadata": {},
   "outputs": [
    {
     "name": "stdout",
     "output_type": "stream",
     "text": [
      "--------------------\n",
      "|                  |\n",
      "|        10        |\n",
      "|                  |\n",
      "--------------------\n",
      "|                  |\n",
      "|        -9        |\n",
      "|                  |\n",
      "--------------------\n",
      "|                  |\n",
      "|        8         |\n",
      "|                  |\n",
      "--------------------\n",
      "|                  |\n",
      "|        -7        |\n",
      "|                  |\n",
      "--------------------\n",
      "|                  |\n",
      "|        6         |\n",
      "|                  |\n",
      "--------------------\n",
      "|                  |\n",
      "|        -5        |\n",
      "|                  |\n",
      "--------------------\n",
      "|                  |\n",
      "|        4         |\n",
      "|                  |\n",
      "--------------------\n",
      "|                  |\n",
      "|        -3        |\n",
      "|                  |\n",
      "--------------------\n",
      "|                  |\n",
      "|        2         |\n",
      "|                  |\n",
      "--------------------\n",
      "|                  |\n",
      "|        -1        |\n",
      "|                  |\n",
      "--------------------\n",
      "|                  |\n",
      "|        0         |\n",
      "|                  |\n",
      "--------------------\n",
      "--------------------\n"
     ]
    }
   ],
   "source": [
    "def pile_alternee(n):\n",
    "    p = creer_pile()\n",
    "    for i in range(n + 1):\n",
    "        if i % 2 == 0:\n",
    "            empiler(p, i)\n",
    "        else:\n",
    "            empiler(p, -i)\n",
    "    return p\n",
    "\n",
    "afficher_pile(pile_alternee(10))"
   ]
  },
  {
   "cell_type": "markdown",
   "id": "649cc3cb",
   "metadata": {},
   "source": [
    "# Exercice 2 : Nouvelles fonctions sur la pile (niveau facile)\n",
    "\n",
    "Dans les questions qui suivent, on ne manipulera le contenu de la pile qu'à l'aide de son interface.\n",
    "\n",
    "1) Écrire une fonction `vider_pile` qui prend en argument une pile, la vide, et ne renvoie rien.\n",
    "\n",
    "2) Écrire une fonction `sommet_pile` qui prend en argument une pile et renvoie l'élément se trouvant au sommet. Le contenu de la pile avant et après l'exécution de la fonction doit rester le même. Dans le cas où la pile est vide on renverra `None`.\n",
    "\n",
    "3) Écrire une fonction `inverser_pile` qui prend en argument une pile et inverse la pile (les éléments au fond de la pile sont maintenant au dessus de la pile et inversement). Cette fonction ne renvoie rien. Après l'exécution de la fonction, le contenu de la pile a changé, on dit dans ce cas qu'on a modifié la pile **en place**.\n",
    "\n",
    "4) Écrire une fonction `taille_pile` qui prend en argument une pile et renvoie le nombre d'éléments qu'elle contient. Le contenu de la pile avant et après l'exécution de la fonction doit rester le même."
   ]
  },
  {
   "cell_type": "code",
   "execution_count": 77,
   "id": "bbd09938",
   "metadata": {},
   "outputs": [
    {
     "name": "stdout",
     "output_type": "stream",
     "text": [
      "--------------------\n",
      "|                  |\n",
      "|        2         |\n",
      "|                  |\n",
      "--------------------\n",
      "|                  |\n",
      "|        1         |\n",
      "|                  |\n",
      "--------------------\n",
      "|                  |\n",
      "|        0         |\n",
      "|                  |\n",
      "--------------------\n",
      "--------------------\n"
     ]
    }
   ],
   "source": [
    "def vider_pile(p):\n",
    "    while not est_vide(p):\n",
    "        depiler(p)\n",
    "        \n",
    "def sommet_pile(p):\n",
    "    if est_vide(p):\n",
    "        res = None\n",
    "    else:\n",
    "        res = depiler(p)\n",
    "        empiler(p, res)\n",
    "    return res\n",
    "\n",
    "def inverser_pile(p):\n",
    "    tmp = []\n",
    "    while not est_vide(p):\n",
    "        tmp.append(depiler(p))\n",
    "    for element in tmp:\n",
    "        empiler(p, element)\n",
    "\n",
    "def taille_pile(p):\n",
    "    tmp = []\n",
    "    res = 0\n",
    "    while not est_vide(p):\n",
    "        tmp.append(depiler(p))\n",
    "        res = res + 1\n",
    "    for element in tmp:\n",
    "        empiler(p, element)\n",
    "    return res\n",
    "\n",
    "\n",
    "p1 = creer_pile()\n",
    "for i in range(3):\n",
    "    empiler(p1, i)\n",
    "afficher_pile(p1)"
   ]
  },
  {
   "cell_type": "code",
   "execution_count": 78,
   "id": "f07e0404",
   "metadata": {},
   "outputs": [
    {
     "data": {
      "text/plain": [
       "2"
      ]
     },
     "execution_count": 78,
     "metadata": {},
     "output_type": "execute_result"
    }
   ],
   "source": [
    "sommet_pile(p1)"
   ]
  },
  {
   "cell_type": "code",
   "execution_count": 79,
   "id": "cd3ebca1",
   "metadata": {},
   "outputs": [
    {
     "name": "stdout",
     "output_type": "stream",
     "text": [
      "--------------------\n",
      "|                  |\n",
      "|        0         |\n",
      "|                  |\n",
      "--------------------\n",
      "|                  |\n",
      "|        1         |\n",
      "|                  |\n",
      "--------------------\n",
      "|                  |\n",
      "|        2         |\n",
      "|                  |\n",
      "--------------------\n",
      "--------------------\n"
     ]
    }
   ],
   "source": [
    "inverser_pile(p1)\n",
    "afficher_pile(p1)"
   ]
  },
  {
   "cell_type": "code",
   "execution_count": 80,
   "id": "d7a8cc45",
   "metadata": {},
   "outputs": [
    {
     "data": {
      "text/plain": [
       "3"
      ]
     },
     "execution_count": 80,
     "metadata": {},
     "output_type": "execute_result"
    }
   ],
   "source": [
    "taille_pile(p1)"
   ]
  },
  {
   "cell_type": "code",
   "execution_count": 81,
   "id": "9aa5bfc7",
   "metadata": {},
   "outputs": [
    {
     "name": "stdout",
     "output_type": "stream",
     "text": [
      "--------------------\n",
      "--------------------\n"
     ]
    }
   ],
   "source": [
    "vider_pile(p1)\n",
    "afficher_pile(p1)"
   ]
  },
  {
   "cell_type": "markdown",
   "id": "dff78dd2",
   "metadata": {},
   "source": [
    "# Exercice 3 : Bon parenthésage (niveau facile)\n",
    "\n",
    "Écrire une fonction `est_bien_parenthesee` qui prend en argument une chaîne de caractères composée de parenthèses ouvrantes `(` et fermante `)` et qui renvoie un booléen en fonction de si la chaîne est bien parenthésée ou non. Par exemple :\n",
    "\n",
    "* La chaîne `((())())` est bien parenthésée : à toute parenthèse ouvrante correspond une parenthèse fermante.\n",
    "* La chaîne `((())` n'est pas bien parenthésée : la première parenthèse ouvrante n'est jamais fermée.\n",
    "* La chaîne `())(` n'est pas bien parenthésée : la deuxième parenthèse fermante se trouve avant la deuxième parenthèse ouvrante dans la chaîne.\n",
    "\n",
    "La fonction `est_bien_parenthesee` doit utiliser une pile pour vérifier le parenthésage."
   ]
  },
  {
   "cell_type": "code",
   "execution_count": 82,
   "id": "71a753e3",
   "metadata": {},
   "outputs": [],
   "source": [
    "def est_bien_parenthesee(s):\n",
    "    p = creer_pile()\n",
    "    for c in s:\n",
    "        if c == \"(\":\n",
    "            empiler(p, c)\n",
    "        elif est_vide(p):\n",
    "            return False\n",
    "        else:\n",
    "            depiler(p)\n",
    "    return est_vide(p)"
   ]
  },
  {
   "cell_type": "code",
   "execution_count": 83,
   "id": "5645b947",
   "metadata": {},
   "outputs": [
    {
     "data": {
      "text/plain": [
       "True"
      ]
     },
     "execution_count": 83,
     "metadata": {},
     "output_type": "execute_result"
    }
   ],
   "source": [
    "est_bien_parenthesee(\"((())())\")"
   ]
  },
  {
   "cell_type": "code",
   "execution_count": 84,
   "id": "6a78c01f",
   "metadata": {},
   "outputs": [
    {
     "data": {
      "text/plain": [
       "False"
      ]
     },
     "execution_count": 84,
     "metadata": {},
     "output_type": "execute_result"
    }
   ],
   "source": [
    "est_bien_parenthesee(\"((())\")"
   ]
  },
  {
   "cell_type": "code",
   "execution_count": 85,
   "id": "ca536ef5",
   "metadata": {},
   "outputs": [
    {
     "data": {
      "text/plain": [
       "False"
      ]
     },
     "execution_count": 85,
     "metadata": {},
     "output_type": "execute_result"
    }
   ],
   "source": [
    "est_bien_parenthesee(\"())(\")"
   ]
  },
  {
   "cell_type": "markdown",
   "id": "9d45a6d8",
   "metadata": {},
   "source": [
    "# Exercice 4 : Expressions postfixées (niveau moyen)\n",
    "\n",
    "Lorsque l'on écrit une expression mathématique (par exemple `3 + 5`), on utilise par convention la notation infixée, où l'opérateur mathématiques (`+`) se trouve entre les deux opérandes (`3` et `5`). Toutefois il existe un alternative : la notation postfixée (ou notation polonaise), dans laquelle on place l'opérateur à la suite de ses deux opérandes. Ainsi, l'expression qui se note `3 + 5` en notation infixée devient `3 5 +` en notation postfixée. L'avantage de cette notation est que l'on peut se passer de parenthèses. Le calcul `(3 + 5) * (4 - 2)` devient simplement `3 5 + 4 2 - *`. Notez qu'il est impossible de garder la notation infixée en enlevant les parenthèses sans changer la valeur de l'expression.\n",
    "\n",
    "Le but de cet exercice est d'écrire une fonction `evaluer_postfixee` qui prend en valeur une expression postfixée (que l'on supposera valide), et qui en s'aidant d'une pile renvoie la valeur correspondante à cette expression.\n",
    "\n",
    "## Partie 1\n",
    "\n",
    "1) Dans la chaîne de caractères passée en argument, les différents opérateurs et opérandes sont séparés par un espace. En vous aidant de la méthode de chaîne de caractères `split`, écrire une fonction `separer_expression` qui renvoie une liste contenant les opérandes et les opérateurs à partir de la chaîne passée en argument.\n",
    "\n",
    "2) Écrire une fonction `est_operateur` qui prend en argument une chaîne de caractères et renvoie `True` si celle-ci représente un opérateur mathématique (`+, -, *, /`), et `False` sinon.\n",
    "\n",
    "## Partie 2\n",
    "\n",
    "3) Écrire maintenant la fonction `evaluer_postfixee` telle qu'elle est spécifié au début de l'énoncé. Pour ce faire, on doit parcourir les éléments d'une liste qui contient les opérandes et les opérateurs. Pour ce faire on empilera toutes les opérandes que l'on rencontre sur une pile, puis lorsque l'on rencontre un opérateur, on l'applique aux deux opérandes en haut de la pile, et on empile le résultat. La fonction `eval` permet d'évaluer une chaîne de caractères. Par exemple `eval(\"3+5\")` va renvoyer `8`."
   ]
  },
  {
   "cell_type": "code",
   "execution_count": 86,
   "id": "99049de3",
   "metadata": {},
   "outputs": [],
   "source": [
    "def separer_expression(s):\n",
    "    return s.split(\" \")\n",
    "\n",
    "def est_operateur(s):\n",
    "    return s == \"+\" or s == \"-\" or s == \"*\" or s == \"/\"\n",
    "\n",
    "def evaluer_postfixee(s):\n",
    "    p = creer_pile()\n",
    "    for c in separer_expression(s):\n",
    "        if est_operateur(c):\n",
    "            x = depiler(p)\n",
    "            y = depiler(p)\n",
    "            empiler(p, str(eval(y + c + x)))\n",
    "        else:\n",
    "            empiler(p, c)\n",
    "    return int(depiler(p))"
   ]
  },
  {
   "cell_type": "code",
   "execution_count": 87,
   "id": "46081c86",
   "metadata": {},
   "outputs": [
    {
     "data": {
      "text/plain": [
       "['3', '5', '+', '4', '2', '-', '*']"
      ]
     },
     "execution_count": 87,
     "metadata": {},
     "output_type": "execute_result"
    }
   ],
   "source": [
    "separer_expression(\"3 5 + 4 2 - *\")"
   ]
  },
  {
   "cell_type": "code",
   "execution_count": 88,
   "id": "df018a79",
   "metadata": {},
   "outputs": [
    {
     "data": {
      "text/plain": [
       "False"
      ]
     },
     "execution_count": 88,
     "metadata": {},
     "output_type": "execute_result"
    }
   ],
   "source": [
    "est_operateur(\"3\")"
   ]
  },
  {
   "cell_type": "code",
   "execution_count": 89,
   "id": "6922fbcc",
   "metadata": {},
   "outputs": [
    {
     "data": {
      "text/plain": [
       "True"
      ]
     },
     "execution_count": 89,
     "metadata": {},
     "output_type": "execute_result"
    }
   ],
   "source": [
    "est_operateur(\"+\")"
   ]
  },
  {
   "cell_type": "code",
   "execution_count": 90,
   "id": "f04ff51f",
   "metadata": {},
   "outputs": [
    {
     "data": {
      "text/plain": [
       "8"
      ]
     },
     "execution_count": 90,
     "metadata": {},
     "output_type": "execute_result"
    }
   ],
   "source": [
    "evaluer_postfixee(\"3 5 +\")"
   ]
  },
  {
   "cell_type": "code",
   "execution_count": 91,
   "id": "8bc9458f",
   "metadata": {},
   "outputs": [
    {
     "data": {
      "text/plain": [
       "16"
      ]
     },
     "execution_count": 91,
     "metadata": {},
     "output_type": "execute_result"
    }
   ],
   "source": [
    "evaluer_postfixee(\"3 5 + 4 2 - *\")"
   ]
  },
  {
   "cell_type": "code",
   "execution_count": 92,
   "id": "83e4fc46",
   "metadata": {},
   "outputs": [
    {
     "data": {
      "text/plain": [
       "-3"
      ]
     },
     "execution_count": 92,
     "metadata": {},
     "output_type": "execute_result"
    }
   ],
   "source": [
    "evaluer_postfixee(\"3 5 4 2 + - *\")"
   ]
  },
  {
   "cell_type": "markdown",
   "id": "8de4f7c8",
   "metadata": {},
   "source": [
    "# Exercice 5 : Tri de crêpes (niveau moyen)\n",
    "\n",
    "Le document [sujet_0_ex_1.pdf](sujet_0_ex_1.pdf) contient un exercice extrait du sujet 0 pour l'épreuve de NSI ayant pour thème les piles. La question 1 est similaire à des questions vues plus haut. La question 2 consiste à écrire une fonction calculant la hauteur de la pile (comme plus tôt dans ce TD), et une autre renvoyant l'indice du plus grand élément de la pile. La question 3 consiste à écrire une fonction pour inverser les `j` premiers éléments de la pile (vous pouvez adapter la fonction `inverser_pile` de l'exercice 2. Vous traiterez ensuite la question 4, qui présente le problème du tri de crêpes, lequel peut être modélisé et résolu avec une structure de pile."
   ]
  },
  {
   "cell_type": "code",
   "execution_count": 93,
   "id": "268af918",
   "metadata": {},
   "outputs": [],
   "source": [
    "def max_pile(p, i):\n",
    "    indice = 1\n",
    "    indice_max = 1\n",
    "    val_max = depiler(p)\n",
    "    tmp = [val_max]\n",
    "    while indice < i:\n",
    "        indice = indice + 1\n",
    "        val = depiler(p)\n",
    "        tmp.append(val)\n",
    "        if val > val_max:\n",
    "            indice_max = indice\n",
    "            val_max = val\n",
    "    for k in range(len(tmp) - 1, -1, -1):\n",
    "        empiler(p, tmp[k])\n",
    "    return indice_max\n",
    "\n",
    "def inverser_pile_j(p, j):\n",
    "    i = 0\n",
    "    tmp = []\n",
    "    while i < j:\n",
    "        i = i + 1\n",
    "        tmp.append(depiler(p))\n",
    "    for element in tmp:\n",
    "        empiler(p, element)\n",
    "        \n",
    "def tri_crepes(p):\n",
    "    taille = taille_pile(p)\n",
    "    for i in range(taille):\n",
    "        indice_max = max_pile(p, taille - i)\n",
    "        inverser_pile_j(p, indice_max)\n",
    "        inverser_pile_j(p, taille - i)"
   ]
  },
  {
   "cell_type": "code",
   "execution_count": 94,
   "id": "b3924c30",
   "metadata": {},
   "outputs": [
    {
     "name": "stdout",
     "output_type": "stream",
     "text": [
      "--------------------\n",
      "|                  |\n",
      "|        7         |\n",
      "|                  |\n",
      "--------------------\n",
      "|                  |\n",
      "|        14        |\n",
      "|                  |\n",
      "--------------------\n",
      "|                  |\n",
      "|        12        |\n",
      "|                  |\n",
      "--------------------\n",
      "|                  |\n",
      "|        5         |\n",
      "|                  |\n",
      "--------------------\n",
      "|                  |\n",
      "|        8         |\n",
      "|                  |\n",
      "--------------------\n",
      "--------------------\n"
     ]
    }
   ],
   "source": [
    "p1 = creer_pile()\n",
    "for i in [8, 5, 12, 14, 7]:\n",
    "    empiler(p1, i)\n",
    "afficher_pile(p1)"
   ]
  },
  {
   "cell_type": "code",
   "execution_count": 95,
   "id": "a38c382d",
   "metadata": {},
   "outputs": [
    {
     "name": "stdout",
     "output_type": "stream",
     "text": [
      "--------------------\n",
      "|                  |\n",
      "|        5         |\n",
      "|                  |\n",
      "--------------------\n",
      "|                  |\n",
      "|        7         |\n",
      "|                  |\n",
      "--------------------\n",
      "|                  |\n",
      "|        8         |\n",
      "|                  |\n",
      "--------------------\n",
      "|                  |\n",
      "|        12        |\n",
      "|                  |\n",
      "--------------------\n",
      "|                  |\n",
      "|        14        |\n",
      "|                  |\n",
      "--------------------\n",
      "--------------------\n"
     ]
    }
   ],
   "source": [
    "tri_crepes(p1)\n",
    "afficher_pile(p1)"
   ]
  },
  {
   "cell_type": "markdown",
   "id": "f1b42368",
   "metadata": {},
   "source": [
    "# Exercice 6 : Implémentation d'une pile par une classe (niveau moyen)\n",
    "\n",
    "On souhaite maintenant écrire une nouvelle implémentation de la structure de pile dans une classe `Pile`. Cette nouvelle classe aura 3 attributs :\n",
    "\n",
    "* `contenu` : une liste représentant le contenu de la pile\n",
    "* `taille_max` : le nombre maximum d'élément que peut contenir la pile\n",
    "* `taille` : le nombre d'élément contenu dans la pile\n",
    "\n",
    "1) Écrire la méthode spéciale `__init__` permettant de construire un objet pile. Celle-ci prend en augment le nombre maximum d'élément que peut contenir la pile. Lorsque l'on créé une nouvelle pile, le contenu est une liste contenant `taille_max` fois l'élément `None`.\n",
    "\n",
    "2) Écrire la méthode `est_vide`.\n",
    "\n",
    "3.a) Quels sont les attributs qui seront modifiés lorsque l'on dépile ou l'on empile un élément ?\n",
    "\n",
    "3.b) Quelles sont les conditions que doivent vérifier les méthodes responsables de l'empilement et du dépilement ?\n",
    "\n",
    "3.c) Écrire les méthodes `empiler` qui ajoute un élément au sommet de la pile, et `dépiler` qui renvoie l'élément au sommet de la pile (en ayant pris soin de le remplacer par un `None` auparavant)."
   ]
  },
  {
   "cell_type": "code",
   "execution_count": 108,
   "id": "6e78fc9a",
   "metadata": {},
   "outputs": [],
   "source": [
    "class Pile:\n",
    "    def __init__(self, taille_max):\n",
    "        self.taille_max = taille_max\n",
    "        self.taille = 0\n",
    "        self.contenu = [None for i in range(taille_max)]\n",
    "        \n",
    "    def est_vide(self):\n",
    "        return self.taille == 0\n",
    "    \n",
    "    def empiler(self, element):\n",
    "        assert self.taille < self.taille_max, \"Impossible d'empiler sur une pile pleine\"\n",
    "        self.contenu[self.taille] = element\n",
    "        self.taille = self.taille + 1\n",
    "    \n",
    "    def depiler(self):\n",
    "        assert not self.est_vide(), \"Impossible de dépiler une pile vide\"\n",
    "        res = self.contenu[self.taille - 1]\n",
    "        self.contenu[self.taille - 1] = None\n",
    "        self.taille = self.taille - 1\n",
    "        return res\n",
    "    \n",
    "    def taille_pile(self):\n",
    "        return self.taille"
   ]
  },
  {
   "cell_type": "markdown",
   "id": "265a14fb",
   "metadata": {},
   "source": [
    "## Exemple de la différence entre deux implémentations"
   ]
  },
  {
   "cell_type": "code",
   "execution_count": 109,
   "id": "fad81941",
   "metadata": {},
   "outputs": [
    {
     "name": "stdout",
     "output_type": "stream",
     "text": [
      "CPU times: user 16.7 s, sys: 0 ns, total: 16.7 s\n",
      "Wall time: 16.7 s\n"
     ]
    }
   ],
   "source": [
    "%%time\n",
    "p1 = creer_pile()\n",
    "for i in range(10000):\n",
    "    empiler(p1, i)\n",
    "    taille_pile(p1)"
   ]
  },
  {
   "cell_type": "code",
   "execution_count": 110,
   "id": "2d4d68b9",
   "metadata": {},
   "outputs": [
    {
     "name": "stdout",
     "output_type": "stream",
     "text": [
      "CPU times: user 6.36 ms, sys: 0 ns, total: 6.36 ms\n",
      "Wall time: 6.35 ms\n"
     ]
    }
   ],
   "source": [
    "%%time\n",
    "p2 = Pile(10000)\n",
    "for i in range(10000):\n",
    "    p2.empiler(i)\n",
    "    p2.taille_pile()"
   ]
  },
  {
   "cell_type": "markdown",
   "id": "4303f551",
   "metadata": {},
   "source": [
    "# Exercice 7 : Vérification d'un document HTML (niveau moyen)\n",
    "\n",
    "Cet exercice est adapté d'une [activité](https://gitlab-fil.univ-lille.fr/capes/portail/-/blob/master/ue1/pile_et_file/pile.md) proposée par le FIL.\n",
    "\n",
    "Le langage HTML est un langage à balise : il possède des balises qui permettent de décrire le contenu des pages web. La plupart de ces balises fonctionnent par paire, c'est à dire que la balise ouvrante (par exemple `<p>` qui débute un paragraphe) doit obligatoirement être suivie plus loin de la balise fermante correspondante (`</p>` dans le cas d'un paragraphe). Le but de cet exercice est d'écrire une fonction qui vérifie le bon balisage d'un document HTML.\n",
    "\n",
    "On utilisera dans cette exercice la classe `Pile` écrite dans l'exercice 6.\n",
    "\n",
    "## Partie 1\n",
    "\n",
    "On fournit un dossier [html_ex](html_ex) qui contient 4 exemples de fichiers HTML (le 1er et le 4ème sont correctement balisés, et les deux autres ne le sont pas).\n",
    "\n",
    "1) Pourquoi les fichiers HTML 2 et 3 donnés en exemple sont-ils incorrects (vous pouvez vous aider du [validateur](https://validator.w3.org/)).\n",
    "\n",
    "2) Écrire une fonction `est_balise_fermante` qui renvoie `True` si la chaîne de caractères passée en argument correspond à une balise fermante, et `False` sinon. \n",
    "\n",
    "3) Écrire une fonction `est_paire_balises` qui prend en argument deux chaînes de caractères et renvoie `True` si la première est une balise ouvrante et la deuxième est la balise fermante correspondante, et `False` sinon."
   ]
  },
  {
   "cell_type": "code",
   "execution_count": 111,
   "id": "916b3e6b",
   "metadata": {},
   "outputs": [],
   "source": [
    "def est_balise_fermante(s):\n",
    "    return s[1] == \"/\"\n",
    "\n",
    "def est_paire_balises(s1, s2):\n",
    "    return s1 == s2[0] + s2[2:]"
   ]
  },
  {
   "cell_type": "code",
   "execution_count": 112,
   "id": "f0d394f0",
   "metadata": {},
   "outputs": [
    {
     "data": {
      "text/plain": [
       "False"
      ]
     },
     "execution_count": 112,
     "metadata": {},
     "output_type": "execute_result"
    }
   ],
   "source": [
    "est_balise_fermante(\"<div>\")"
   ]
  },
  {
   "cell_type": "code",
   "execution_count": 113,
   "id": "e660d068",
   "metadata": {},
   "outputs": [
    {
     "data": {
      "text/plain": [
       "True"
      ]
     },
     "execution_count": 113,
     "metadata": {},
     "output_type": "execute_result"
    }
   ],
   "source": [
    "est_balise_fermante(\"</div>\")"
   ]
  },
  {
   "cell_type": "code",
   "execution_count": 114,
   "id": "4aa45e51",
   "metadata": {},
   "outputs": [
    {
     "data": {
      "text/plain": [
       "True"
      ]
     },
     "execution_count": 114,
     "metadata": {},
     "output_type": "execute_result"
    }
   ],
   "source": [
    "est_paire_balises(\"<div>\", \"</div>\")"
   ]
  },
  {
   "cell_type": "code",
   "execution_count": 115,
   "id": "9c8fa0d4",
   "metadata": {},
   "outputs": [
    {
     "data": {
      "text/plain": [
       "False"
      ]
     },
     "execution_count": 115,
     "metadata": {},
     "output_type": "execute_result"
    }
   ],
   "source": [
    "est_paire_balises(\"<div>\", \"</p>\")"
   ]
  },
  {
   "cell_type": "markdown",
   "id": "dff0dc68",
   "metadata": {},
   "source": [
    "\n",
    "## Partie 2\n",
    "\n",
    "On fournit un module [myhtml_parser](my_html_parser.py) dans lequel on trouve :\n",
    "\n",
    "* Une fonction html_to_str qui prend en argument le chemin vers un fichier HTML, et renvoie le contenu de ce fichier sous la forme d'une chaîne de caractères.\n",
    "\n",
    "* Une classe MyHTMLParser qui permet d'accéder aux balises (en anglais tags) d'un document HTML. On instancie un objet de cette classe à partir d'une chaîne de caractère qui contient le contenu d'un fichier HTML. \n",
    "\n",
    "Voici comment on peut utiliser ces éléments :"
   ]
  },
  {
   "cell_type": "code",
   "execution_count": 116,
   "id": "d8429ff8",
   "metadata": {},
   "outputs": [
    {
     "name": "stdout",
     "output_type": "stream",
     "text": [
      "<!DOCTYPE html><html lang=\"fr-FR\"><body><h1> Un titre </h1><p> un paragraphe </p></body></html>\n"
     ]
    }
   ],
   "source": [
    "from myhtml_parser import html_to_str, MyHTMLParser\n",
    "\n",
    "s = html_to_str(\"html_ex/ex1.html\")\n",
    "print(s)"
   ]
  },
  {
   "cell_type": "code",
   "execution_count": 117,
   "id": "20c9c391",
   "metadata": {},
   "outputs": [
    {
     "name": "stdout",
     "output_type": "stream",
     "text": [
      "<html>\n",
      "<body>\n",
      "<h1>\n",
      "</h1>\n",
      "<p>\n",
      "</p>\n",
      "</body>\n",
      "</html>\n"
     ]
    }
   ],
   "source": [
    "parser = MyHTMLParser(s)\n",
    "while parser.has_tag():\n",
    "    print(parser.next_tag())"
   ]
  },
  {
   "cell_type": "markdown",
   "id": "92e6e9ec",
   "metadata": {},
   "source": [
    "4) En utilisant les éléments du module [myhtml_parser](my_html_parser.py), vos fonctions de la partie 1 et une pile, écrire une fonction `verifier_html` qui prend un argument une chaîne de caractère correspondant au chemin vers un fichier HTML, et qui renvoie `True` si le document est bien balisé et `False` sinon.\n",
    "\n",
    "Un document est bien balisé si toute balise ouvrante est fermée plus loins, si aucune balise fermante n'apparaît avant la balise ouvrante correspondante et si les balises ne se chevauchent pas (elles doivent être fermées dans l'ordre inverse de leur ouverture)."
   ]
  },
  {
   "cell_type": "code",
   "execution_count": 137,
   "id": "f5863dcf",
   "metadata": {},
   "outputs": [],
   "source": [
    "from myhtml_parser import MyHTMLParser, html_to_str\n",
    "TAILLE_MAX = 100\n",
    "\n",
    "def verifier_html(fname):\n",
    "    parser = MyHTMLParser(html_to_str(fname))\n",
    "    p = Pile(TAILLE_MAX)\n",
    "    while parser.has_tag():\n",
    "        tag = parser.next_tag()\n",
    "        if not est_balise_fermante(tag):\n",
    "            p.empiler(tag)\n",
    "        elif p.est_vide() or not est_paire_balises(p.depiler(), tag):\n",
    "            return False\n",
    "    return p.est_vide()            "
   ]
  },
  {
   "cell_type": "code",
   "execution_count": 138,
   "id": "4dcef857",
   "metadata": {},
   "outputs": [
    {
     "data": {
      "text/plain": [
       "True"
      ]
     },
     "execution_count": 138,
     "metadata": {},
     "output_type": "execute_result"
    }
   ],
   "source": [
    "verifier_html(\"html_ex/ex1.html\")"
   ]
  },
  {
   "cell_type": "code",
   "execution_count": 139,
   "id": "6fc65acc",
   "metadata": {},
   "outputs": [
    {
     "data": {
      "text/plain": [
       "False"
      ]
     },
     "execution_count": 139,
     "metadata": {},
     "output_type": "execute_result"
    }
   ],
   "source": [
    "verifier_html(\"html_ex/ex2.html\")"
   ]
  },
  {
   "cell_type": "code",
   "execution_count": 140,
   "id": "8a7717df",
   "metadata": {},
   "outputs": [
    {
     "data": {
      "text/plain": [
       "False"
      ]
     },
     "execution_count": 140,
     "metadata": {},
     "output_type": "execute_result"
    }
   ],
   "source": [
    "verifier_html(\"html_ex/ex3.html\")"
   ]
  },
  {
   "cell_type": "markdown",
   "id": "63b962e6",
   "metadata": {},
   "source": [
    "## Partie 3\n",
    "\n",
    "Les fichiers HTML fournis en exemple contiennent des balises qui fonctionnent toutes par paires. Toutefois, il existe des autofermantes (ou orphelines) qui sont à la fois ouvrantes et fermantes. Ces balises n'ont pas de contenu, mais elles ont des attributs. Les balises autofermantes les plus courantes sont `<area>, <br>, <hr>, <img>, <input>, <link>, <meta>` et `<param>`.\n",
    "\n",
    "5) Modifier la fonction `verifier_html` pour que les documents contenant des balises autofermantes ne soient pas automatiquement rejetés.\n",
    "\n",
    "On souhaite aussi vérifier que les différents niveau des titres s'enchainent correctement. Par exemple, si l'on rencontre une balise `<h2>` qui correspond à un titre de niveau 2, on veut avoir vu auparavant une balise de titre de niveau 1 (`<h1>`).\n",
    "\n",
    "6) Modifier la fonction `verifier_html` pour qu'elle vérifie également que les différents niveaux de titres s'enchaînent correctement.\n",
    "\n",
    "Notez qu'en général, cette contrainte n'est pas obligatoire pour qu'un document HTML soit valide."
   ]
  },
  {
   "cell_type": "code",
   "execution_count": 143,
   "id": "7776a040",
   "metadata": {},
   "outputs": [],
   "source": [
    "def est_balise_autofermante(s):\n",
    "    return s in {\"<area>\", \"<br>\", \"<hr>\", \"<img>\", \"<input>\", \"<link>\", \"<meta>\", \"<param>\"}\n",
    "\n",
    "def niveau_balise(s):\n",
    "    if s in {\"<h1>\", \"<h2>\", \"<h3>\", \"<h4>\", \"<h5>\", \"<h6>\"}:\n",
    "        return int(s[2])\n",
    "    else:\n",
    "        return 0\n",
    "    \n",
    "from myhtml_parser import MyHTMLParser, html_to_str\n",
    "TAILLE_MAX = 100\n",
    "\n",
    "def verifier_html(fname):\n",
    "    parser = MyHTMLParser(html_to_str(fname))\n",
    "    p = Pile(TAILLE_MAX)\n",
    "    while parser.has_tag():\n",
    "        tag = parser.next_tag()\n",
    "        if not est_balise_fermante(tag):\n",
    "            p.empiler(tag)\n",
    "        elif p.est_vide() or not est_paire_balises(p.depiler(), tag):\n",
    "            return False\n",
    "    return p.est_vide()    \n",
    "\n",
    "def verifier_html(fname):\n",
    "    parser = MyHTMLParser(html_to_str(fname))\n",
    "    p = Pile(TAILLE_MAX)\n",
    "    niveau_doc = 0\n",
    "    while parser.has_tag():\n",
    "        tag = parser.next_tag()\n",
    "        if not est_balise_autofermante(tag):\n",
    "            if not est_balise_fermante(tag):\n",
    "                p.empiler(tag)\n",
    "                niveau = niveau_balise(tag)\n",
    "                if niveau > niveau_doc + 1:\n",
    "                    return False\n",
    "                if 0 < niveau < niveau_doc:\n",
    "                    niveau_doc = niveau\n",
    "            elif p.est_vide() or not est_paire_balises(p.depiler(), tag):\n",
    "                return False\n",
    "\n",
    "    return p.est_vide()"
   ]
  },
  {
   "cell_type": "code",
   "execution_count": 145,
   "id": "c061d76c",
   "metadata": {},
   "outputs": [
    {
     "data": {
      "text/plain": [
       "True"
      ]
     },
     "execution_count": 145,
     "metadata": {},
     "output_type": "execute_result"
    }
   ],
   "source": [
    "verifier_html(\"html_ex/ex4.html\")"
   ]
  },
  {
   "cell_type": "code",
   "execution_count": null,
   "id": "508d69ec",
   "metadata": {},
   "outputs": [],
   "source": []
  }
 ],
 "metadata": {
  "kernelspec": {
   "display_name": "Python 3 (ipykernel)",
   "language": "python",
   "name": "python3"
  },
  "language_info": {
   "codemirror_mode": {
    "name": "ipython",
    "version": 3
   },
   "file_extension": ".py",
   "mimetype": "text/x-python",
   "name": "python",
   "nbconvert_exporter": "python",
   "pygments_lexer": "ipython3",
   "version": "3.7.3"
  }
 },
 "nbformat": 4,
 "nbformat_minor": 5
}
