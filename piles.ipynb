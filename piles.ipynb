{
 "cells": [
  {
   "cell_type": "markdown",
   "id": "dffd66a1-ee7c-4b4e-8ce5-9a7e80dac6d3",
   "metadata": {},
   "source": [
    "# Structure et fonctionnement de la pile\n",
    "\n",
    "En informatique, une **pile** (en anglais stack) est une structure de donnée permettant de mémoriser des données. Sa particularité est qu'on ne pas accéder qu'à un élément de le pile, appelé le **sommet**. Le sommet correspond au dernier élément inséré dans la pile.\n",
    "\n",
    "La pile est une structure dite **LIFO** : Last In First Out, ou en français : dernier arrivé premier sorti. Cela veut dire que le sommet (le dernier élément inséré) est le premier (et le seul) que l'on peut retirer de la pile. L'ajout d'un élément au sommet de la pile est appelé un **empilement** (en anglais push), et la suppression de l'élément au sommet est un **dépilement** (en anglais pop).\n",
    "\n",
    "![img/pile.png](img/pile.png)\n",
    "\n",
    "\n",
    "# Interface de la pile\n",
    "\n",
    "Peu importe la façon dont la pile est implémentée, elle doit fournir une **interface** minimale, nécessaire à sa manipulation. Cette interface se compose de 4 fonctions:\n",
    "* `creer_pile` : Cette fonction ne prend aucun argument et renvoie une pile vide nouvellement créée.\n",
    "\n",
    "![img/creer_pile.png](img/creer_pile.png)\n",
    "\n",
    "* `est_vide` : Cette fonction prend une pile en argument et renvoie `True` si la pile est vide, `False` sinon.\n",
    "\n",
    "![img/est_vide.png](img/est_vide.png)\n",
    "\n",
    "* `empiler` : Cette méthode prend en argument une pile et un élément, ne renvoie rien, mais empile l'élément au sommet de la pile.\n",
    "\n",
    "![img/empiler.png](img/empiler.png)\n",
    "\n",
    "* `dépiler` : Cette méthode prend en argument une pile, dépile l'élément se trouvant au sommet et le renvoie. Elle ne doit pas s'utiliser sur une pile vide.\n",
    "\n",
    "![img/depiler.png](img/depiler.png)\n",
    "\n",
    "\n",
    "# Exemples d'utilisation de la pile\n",
    "\n",
    "En informatique la structure de pile est utilisée de plusieurs façon:\n",
    "* **La fonction \"page précédente\" d'un navigateur internet** : Les adresses des sites visités sont empilées une pile, et lorsque l'on clique sur le bouton page précédente, l'adresse de la dernière page visitée est dépilée.\n",
    "* **La fonction \"annuler la dernière action\" des éditeurs de texte** : Les actions (frappes et effacements) sont mémorisées dans une pile, et lorsque l'on souhaite annuler le dernière, on la dépile et on effectue l'action inverse pour remettre le document dans le même état qu'avant l'action à annuler.\n",
    "* **La vérification d'un document HTML** : Les balises du langage HTML fonctionnent le plus souvent par paires. On peut vérifier le bon balisage d'un fichier HTML à l'aide d'une pile (voir exercice 7).\n",
    "* **La pile des appels d'une fonction récursive** : Lorsqu'une fonction récursive fait appel à elle même, on empile les appels récursifs successifs, jusqu'à tomber sur un cas de base. Lorsqu'un appel se termine, on le dépile et on utilise son résultat dans l'appel précédent."
   ]
  },
  {
   "cell_type": "code",
   "execution_count": null,
   "id": "36948720",
   "metadata": {},
   "outputs": [],
   "source": []
  }
 ],
 "metadata": {
  "kernelspec": {
   "display_name": "Python 3 (ipykernel)",
   "language": "python",
   "name": "python3"
  },
  "language_info": {
   "codemirror_mode": {
    "name": "ipython",
    "version": 3
   },
   "file_extension": ".py",
   "mimetype": "text/x-python",
   "name": "python",
   "nbconvert_exporter": "python",
   "pygments_lexer": "ipython3",
   "version": "3.7.3"
  }
 },
 "nbformat": 4,
 "nbformat_minor": 5
}
