{
 "cells": [
  {
   "cell_type": "markdown",
   "id": "dffd66a1-ee7c-4b4e-8ce5-9a7e80dac6d3",
   "metadata": {},
   "source": [
    "# Structure et fonctionnement de la pile\n",
    "\n",
    "En informatique, une **pile** (en anglais stack) est une structure de donnée permettant de mémoriser des données. Sa particularité est qu'on ne pas accéder qu'à un élément de le pile, appelé le **sommet**. Le sommet correspond au dernier élément inséré dans la pile.\n",
    "\n",
    "La pile est une structure dite **LIFO** : Last In First Out, ou en français : dernier arrivé premier sorti. Cela veut dire que le sommet (le dernier élément inséré) est le premier (et le seul) que l'on peut retirer de la pile. L'ajout d'un élement au sommet de la pile est appelé un **empilement** (en anglais push), et la supprésion de l'élément au sommet est un **dépilement** (en anglais pop).\n",
    "\n",
    "![img/pile.png](img/pile.png)\n",
    "\n",
    "\n",
    "# Interface de la pile\n",
    "\n",
    "Peu importe la façon dont la pile est implémentée, elle doit fournir une **interface** minimale, nécessaire à sa manipulation. Cette interface se compose de 4 fonctions:\n",
    "* `creer_pile` : Cette fonction ne prend aucun argument et renvoie une pile vide nouvellement créée.\n",
    "![img/creer_pile.png](img/creer_pile.png)\n",
    "* `est_vide` : Cette fonction prend une pile en argument et renvoie `True` si la pile est vide, `False` sinon.\n",
    "![img/est_vide.png](img/est_vide.png)\n",
    "* `empiler` : Cette méthode prend en argument une pile et un élément, ne renvoie rien, mais empile l'élément au sommet de la pile.\n",
    "![img/empiler.png](img/empiler.png)\n",
    "* `dépiler` : Cette méthode prend en argument une pile, dépile l'élément se trouvant au sommet et le renvoie. Elle ne doit pas s'utiliser sur une pile vide.\n",
    "![img/depiler.png](img/depiler.png)\n",
    "\n",
    "\n",
    "# Exemples d'utilisation de la pile\n",
    "\n",
    "En informatique la structure de pile est utilisée de plusieurs façon:\n",
    "* **La fonction \"page précédente\" d'un navigateur internet** : les adresses des sites visités sont empilées une pile, et lorsque l'on clique sur le bouton page précédente, l'adresse de la dernière page visitée est dépilée.\n",
    "* **La fonction \"annuler la dernière action\" des éditeurs de texte** : les actions (frappes et effacements) sont mémorisées dans une pile, et lorsque l'on souhaite annuler le dernière, on la dépile et on effectue l'action inverse pour remettre le document dans le même état qu'avant l'action à annuler.\n",
    "* **La vérification d'un document HTML** : les fichiers HTML sont utilisés pour structurer les sites web. Le langage HTML est un langage à balise : il possède des balises qui permettent de décrire le contenu des pages web. La plupart de ces balises fonctionnent par paire, c'est à dire que la balise ouvrante (par exemple `<p>` qui débute un paragraphe) doit obligatoirement être suivie plus loin de la balise fermante correspondante (`</p>` dans le cas d'un paragraphe).\n",
    "* **La pile des appels d'une fonction récursive** : lorsqu'une fonction récursive fait appel à elle même, on empile les appels récursifs successifs, jusqu'à tomber sur un cas de base. Lorsqu'un appel se termine, on le dépile et on utilise son résultat dans l'appel précédent.\n",
    "\n",
    "# Première implémentation\n",
    "\n",
    "Ci-dessous se trouve une première impémentation de la pile. Celle-ci se base sur la structure de liste, dont le dernier élément représente le sommet : `creer_pile` renvoie une pile vide (représentée par une liste vide), `est_vide` vérifie si la liste qui représente la pile est vide, `empiler` utilise la fonction `append` qui ajoute un élément à la fin d'une liste et `depiler` utilise la fonction `pop` qui enleve le dernier élément d'une liste et le renvoie."
   ]
  },
  {
   "cell_type": "code",
   "execution_count": 24,
   "id": "81f3e8a0",
   "metadata": {},
   "outputs": [],
   "source": [
    "def creer_pile():\n",
    "    \"\"\" Créé une pile vide\n",
    "    :return: Une pile vide représentée par la liste vide\n",
    "    \"\"\"\n",
    "    return []\n",
    "\n",
    "\n",
    "def est_vide(p):\n",
    "    \"\"\" Teste si une pile est vide\n",
    "    :param p: Une pile\n",
    "    :return: True si p est vide, False sinon\n",
    "    \"\"\"\n",
    "    return p == []\n",
    "\n",
    "\n",
    "def empiler(p, e):\n",
    "    \"\"\" Empile un élement au sommet d'une pile\n",
    "    :param p: Une pile\n",
    "    :param e: Un élement\n",
    "    :return: None\n",
    "    :Effets: Empile e au sommet de p\n",
    "    \"\"\"\n",
    "    p.append(e)\n",
    "    \n",
    "\n",
    "def depiler(p):\n",
    "    \"\"\" Depile un élément au sommet d'une pile et le renvoie\n",
    "    :param p: Une pile\n",
    "    :return: L'élément au sommet de la pile\n",
    "    :Conditions d'utilisation: p est non vide\n",
    "    \"\"\"\n",
    "    assert not est_vide(p), \"Impossible de dépiler une pile vide\"\n",
    "    return p.pop()\n",
    "\n",
    "\n",
    "def afficher_pile(p):\n",
    "    \"\"\" Affiche le contenu d'une pile\n",
    "    :param p : Une pile\n",
    "    :return: None\n",
    "    \"\"\"\n",
    "    print(\"-\" * 20)\n",
    "    for element in p[::-1]:\n",
    "        print(\"|\" + \" \" * 18 + \"|\")\n",
    "        print(\"|\" + str(element).center(18) + \"|\")\n",
    "        print(\"|\" + \" \" * 18 + \"|\")\n",
    "        print(\"-\" * 20)\n",
    "    print(\"-\" * 20)"
   ]
  },
  {
   "cell_type": "markdown",
   "id": "551c53c4",
   "metadata": {},
   "source": [
    "# Exercice 1 : Manipulation de base\n",
    "\n",
    "## Question 1 :\n",
    "\n",
    "Quel est l'état de la pile p1 après l'exécution de ces instructions ?"
   ]
  },
  {
   "cell_type": "code",
   "execution_count": 2,
   "id": "873e1293",
   "metadata": {},
   "outputs": [],
   "source": [
    "p1 = creer_pile()\n",
    "\n",
    "for i in range(6):\n",
    "    empiler(p1, i)"
   ]
  },
  {
   "cell_type": "markdown",
   "id": "6913ed71",
   "metadata": {},
   "source": [
    "## Question 2 :\n",
    "\n",
    "Quel est l'état de la pile p2 après l'éxécution de ces instructions ?"
   ]
  },
  {
   "cell_type": "code",
   "execution_count": 3,
   "id": "691736b8",
   "metadata": {},
   "outputs": [],
   "source": [
    "p2 = creer_pile()\n",
    "\n",
    "for i in \"Python\":\n",
    "    empiler(p2, i)\n",
    "\n",
    "for i in range(2):\n",
    "    depiler(p2)"
   ]
  },
  {
   "cell_type": "markdown",
   "id": "70fa6222",
   "metadata": {},
   "source": [
    "## Question 3 :\n",
    "\n",
    "Crééez une fonction `pile_alternee` qui prend un paramètre un entier `n` et qui renvoie la pile contenant soit `i` si `i` est pair, soit `-i` si `i` est impair, pour tout i dans l'intervale `[0, n]`"
   ]
  },
  {
   "cell_type": "markdown",
   "id": "649cc3cb",
   "metadata": {},
   "source": [
    "# Exercice 2 : Nouvelles fonctions sur la pile\n",
    "\n",
    "Dans les questions qui suivent, on ne manipulera le contenu de la pile qu'à l'aide de son interface.\n",
    "\n",
    "## Question 1 : \n",
    "\n",
    "Écrivez une fonction `vider_pile` qui prend en argument une pile, la vide, et ne renvoie rien.\n",
    "\n",
    "## Question 2 : \n",
    "\n",
    "Écrivez une fonction `sommet_pile` qui prend en argument une pile et renvoie l'élément se trouvant au sommet. Le contenu de la pile avant et après l'exécution de la fonction doit rester le même.\n",
    "\n",
    "## Question 3 :\n",
    "\n",
    "Écrivez une fonction `inverser_pile` qui prend en argument une pile et renvoie la pile invere (les éléments au fond de la pile initale sont maintenant au dessus de la nouvelle pile et inversement).\n",
    "\n",
    "## Question 4 : \n",
    "\n",
    "Écrivez une fonction `taille_pile` qui prend en argument une pile et renvoie le nombre d'éléments qu'elle contient. Le contenu de la pile avant et après l'exécution de la fonction doit rester le même."
   ]
  },
  {
   "cell_type": "markdown",
   "id": "dff78dd2",
   "metadata": {},
   "source": [
    "# Exercice 3 : Bon parenthésage\n",
    "\n",
    "On souhaite écrire une fonction `est_bien_parenthesee` qui prend en argument une chaîne de caractères composée de parentèses ouvrantes `(` et fermante `)` et qui renvoie un booléen en fonction de si la chaîne est bien parenthésée ou non. Par exemple :\n",
    "\n",
    "* La chaîne `((())())` est bien parenthésée : à toute parenthèse ouvrante correspond une parenthèse fermante.\n",
    "* La chaîne `((())` n'est pas bien parenthésée : la première parenthèse ouvrante n'est jamais fermée.\n",
    "* La chaîne `())(` n'est pas bien parenthésée : la deuxième parenthèse fermante se trouve avant la deuxième parenthèse ouvrante dans la chaîne.\n",
    "\n",
    "La fonction `est_bien_parenthesee` doit utiliser une pile pour vérifier le parenthésage."
   ]
  },
  {
   "cell_type": "markdown",
   "id": "9d45a6d8",
   "metadata": {},
   "source": [
    "# Exercice 4 : Expressions postfixées\n",
    "\n",
    "Lorsque l'on écrit une expression mathématique (par exemple `3 + 5`), on utilise par convention la notation infixée, où l'opérateur mathématiques (`+`) se trouve entre les deux opérandes (`3` et `5`). Toutefois il existe un alternative : la notation infixée (ou notation polonaise), dans laquelle on place l'opérateur à la suite de ses deux opérandes. Ainsi, l'expression qui se note `3 + 5` en notation infixée devient `3 5 +` en notation postfixée. L'avantage de cette notation est que l'on peut se passer de parenthèses. Le calcul `(3 + 5) * (4 - 2)` devient simplement `3 5 + 4 2 - *`. Notez qu'il est impossible de garder la notation infixée en enlevant les parenthèses sans changer la valeur de l'expression.\n",
    "\n",
    "Le but de cet exercice est d'écrire une fonction `evaluer_postfixee` qui prend en valeur une expression postfixée (que l'on supposera valide), et qui en s'aidant d'une pile renvoie la valeur correspondante à cette expression.\n",
    "\n",
    "## Question 1\n",
    "\n",
    "Dans la chaîne de caractères passée en argument, les différents opéranteurs et opérandes sont séparés par un espace."
   ]
  },
  {
   "cell_type": "markdown",
   "id": "8de4f7c8",
   "metadata": {},
   "source": [
    "# Exercice 5 : Tri de crêpes\n",
    "\n",
    "Sujet 0 du bac ?"
   ]
  },
  {
   "cell_type": "markdown",
   "id": "f1b42368",
   "metadata": {},
   "source": [
    "# Exercice 6 : Classe Pile à implémenter\n",
    "\n",
    "Deux attributs : contenu (une liste) et taille."
   ]
  },
  {
   "cell_type": "code",
   "execution_count": null,
   "id": "3d287293",
   "metadata": {},
   "outputs": [],
   "source": []
  }
 ],
 "metadata": {
  "kernelspec": {
   "display_name": "Python 3 (ipykernel)",
   "language": "python",
   "name": "python3"
  },
  "language_info": {
   "codemirror_mode": {
    "name": "ipython",
    "version": 3
   },
   "file_extension": ".py",
   "mimetype": "text/x-python",
   "name": "python",
   "nbconvert_exporter": "python",
   "pygments_lexer": "ipython3",
   "version": "3.7.3"
  }
 },
 "nbformat": 4,
 "nbformat_minor": 5
}
