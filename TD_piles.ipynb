{
 "cells": [
  {
   "cell_type": "markdown",
   "id": "80569e60",
   "metadata": {},
   "source": [
    "Pour tous les exercices à l'exception du 6 et du 7, on utilisera la première implémentation de pile fournie dans le cours :"
   ]
  },
  {
   "cell_type": "code",
   "execution_count": 1,
   "id": "03ca763f",
   "metadata": {},
   "outputs": [],
   "source": [
    "def creer_pile():\n",
    "    \"\"\" Créé une pile vide\n",
    "    :return: Une pile vide représentée par la liste vide\n",
    "    \"\"\"\n",
    "    return []\n",
    "\n",
    "\n",
    "def est_vide(p):\n",
    "    \"\"\" Teste si une pile est vide\n",
    "    :param p: Une pile\n",
    "    :return: True si p est vide, False sinon\n",
    "    \"\"\"\n",
    "    return p == []\n",
    "\n",
    "\n",
    "def empiler(p, e):\n",
    "    \"\"\" Empile un élément au sommet d'une pile\n",
    "    :param p: Une pile\n",
    "    :param e: Un élément\n",
    "    :return: None\n",
    "    :Effets: Empile e au sommet de p\n",
    "    \"\"\"\n",
    "    p.append(e)\n",
    "    \n",
    "\n",
    "def depiler(p):\n",
    "    \"\"\" Dépile un élément au sommet d'une pile et le renvoie\n",
    "    :param p: Une pile\n",
    "    :return: L'élément au sommet de la pile\n",
    "    :Précondition: p est non vide\n",
    "    \"\"\"\n",
    "    assert not est_vide(p), \"Impossible de dépiler une pile vide\"\n",
    "    return p.pop()"
   ]
  },
  {
   "cell_type": "markdown",
   "id": "551c53c4",
   "metadata": {},
   "source": [
    "# Exercice 1 : Manipulation de base (niveau facile)\n",
    "\n",
    "1) Quel est l'état de la pile p1 après l'exécution de ces instructions ?"
   ]
  },
  {
   "cell_type": "code",
   "execution_count": 2,
   "id": "873e1293",
   "metadata": {},
   "outputs": [],
   "source": [
    "p1 = creer_pile()\n",
    "\n",
    "for i in range(6):\n",
    "    empiler(p1, i)"
   ]
  },
  {
   "cell_type": "markdown",
   "id": "6913ed71",
   "metadata": {},
   "source": [
    "2) Quel est l'état de la pile p2 après l'exécution de ces instructions ?"
   ]
  },
  {
   "cell_type": "code",
   "execution_count": 3,
   "id": "691736b8",
   "metadata": {},
   "outputs": [],
   "source": [
    "p2 = creer_pile()\n",
    "\n",
    "for i in \"Python\":\n",
    "    empiler(p2, i)\n",
    "\n",
    "for i in range(2):\n",
    "    depiler(p2)"
   ]
  },
  {
   "cell_type": "markdown",
   "id": "70fa6222",
   "metadata": {},
   "source": [
    "3) Créer une fonction `pile_alternee` qui prend un paramètre un entier `n` et qui renvoie la pile contenant de bas en haut `0, -1, 2, -3, 4...` jusqu'à n (on veut `i` si `i` est pair et `-i` si `i` est impair, pour tout `i` dans l'intervalle `[0, n]`)."
   ]
  },
  {
   "cell_type": "markdown",
   "id": "649cc3cb",
   "metadata": {},
   "source": [
    "# Exercice 2 : Nouvelles fonctions sur la pile (niveau facile)\n",
    "\n",
    "Dans les questions qui suivent, on ne manipulera le contenu de la pile qu'à l'aide de son interface.\n",
    "\n",
    "1) Écrire une fonction `vider_pile` qui prend en argument une pile, la vide, et ne renvoie rien.\n",
    "\n",
    "2) Écrire une fonction `sommet_pile` qui prend en argument une pile et renvoie l'élément se trouvant au sommet. Le contenu de la pile avant et après l'exécution de la fonction doit rester le même. Dans le cas où la pile est vide on renverra `None`.\n",
    "\n",
    "3) Écrire une fonction `inverser_pile` qui prend en argument une pile et inverse la pile (les éléments au fond de la pile sont maintenant au dessus de la pile et inversement). Cette fonction ne renvoie rien. Après l'exécution de la fonction, le contenu de la pile a changé, on dit dans ce cas qu'on a modifié la pile **en place**.\n",
    "\n",
    "4) Écrire une fonction `taille_pile` qui prend en argument une pile et renvoie le nombre d'éléments qu'elle contient. Le contenu de la pile avant et après l'exécution de la fonction doit rester le même."
   ]
  },
  {
   "cell_type": "markdown",
   "id": "dff78dd2",
   "metadata": {},
   "source": [
    "# Exercice 3 : Bon parenthésage (niveau facile)\n",
    "\n",
    "Écrire une fonction `est_bien_parenthesee` qui prend en argument une chaîne de caractères composée de parenthèses ouvrantes `(` et fermante `)` et qui renvoie un booléen en fonction de si la chaîne est bien parenthésée ou non. Par exemple :\n",
    "\n",
    "* La chaîne `((())())` est bien parenthésée : à toute parenthèse ouvrante correspond une parenthèse fermante.\n",
    "* La chaîne `((())` n'est pas bien parenthésée : la première parenthèse ouvrante n'est jamais fermée.\n",
    "* La chaîne `())(` n'est pas bien parenthésée : la deuxième parenthèse fermante se trouve avant la deuxième parenthèse ouvrante dans la chaîne.\n",
    "\n",
    "La fonction `est_bien_parenthesee` doit utiliser une pile pour vérifier le parenthésage.\n",
    "\n",
    "Résultats attendus :\n",
    "\n",
    "```Python\n",
    ">>> est_bien_parenthesee(\"((())())\")\n",
    "True\n",
    ">>> est_bien_parenthesee(\"((())\")\n",
    "False\n",
    ">>> est_bien_parenthesee(\"())(\")\n",
    "False\n",
    "```"
   ]
  },
  {
   "cell_type": "markdown",
   "id": "9d45a6d8",
   "metadata": {},
   "source": [
    "# Exercice 4 : Expressions postfixées (niveau moyen)\n",
    "\n",
    "Lorsque l'on écrit une expression mathématique (par exemple `3 + 5`), on utilise par convention la notation infixée, où l'opérateur mathématiques (`+`) se trouve entre les deux opérandes (`3` et `5`). Toutefois il existe un alternative : la notation postfixée (ou notation polonaise), dans laquelle on place l'opérateur à la suite de ses deux opérandes. Ainsi, l'expression qui se note `3 + 5` en notation infixée devient `3 5 +` en notation postfixée. L'avantage de cette notation est que l'on peut se passer de parenthèses. Le calcul `(3 + 5) * (4 - 2)` devient simplement `3 5 + 4 2 - *`. Notez qu'il est impossible de garder la notation infixée en enlevant les parenthèses sans changer la valeur de l'expression.\n",
    "\n",
    "Le but de cet exercice est d'écrire une fonction `evaluer_postfixee` qui prend en valeur une expression postfixée (que l'on supposera valide), et qui en s'aidant d'une pile renvoie la valeur correspondante à cette expression.\n",
    "\n",
    "## Partie 1\n",
    "\n",
    "1) Dans la chaîne de caractères passée en argument, les différents opérateurs et opérandes sont séparés par un espace. En vous aidant de la méthode de chaîne de caractères `split`, écrire une fonction `separer_expression` qui renvoie une liste contenant les opérandes et les opérateurs à partir de la chaîne passée en argument.\n",
    "\n",
    "2) Écrire une fonction `est_operateur` qui prend en argument une chaîne de caractères et renvoie `True` si celle-ci représente un opérateur mathématique (`+, -, *, /`), et `False` sinon.\n",
    "\n",
    "Résultats attendus :\n",
    "\n",
    "```Python\n",
    ">>> separer_expression(\"3 5 + 4 2 - *\")\n",
    "[\"3\", \"5\", \"+\", \"4\", \"2\", \"-\", \"*\"]\n",
    ">>> est_operateur(\"3\")\n",
    "False\n",
    ">>> est_operateur(\"+\")\n",
    "True\n",
    "```\n",
    "\n",
    "## Partie 2\n",
    "\n",
    "3) Écrire maintenant la fonction `evaluer_postfixee` telle qu'elle est spécifié au début de l'énoncé. Pour ce faire, on doit parcourir les éléments d'une liste qui contient les opérandes et les opérateurs. Pour ce faire on empilera toutes les opérandes que l'on rencontre sur une pile, puis lorsque l'on rencontre un opérateur, on l'applique aux deux opérandes en haut de la pile, et on empile le résultat. La fonction `eval` permet d'évaluer une chaîne de caractères. Par exemple `eval(\"3+5\")` va renvoyer `8`.\n",
    "\n",
    "Résultats attendus : \n",
    "```Python\n",
    ">>> evaluer_postfixee(\"3 5 +\")\n",
    "8\n",
    ">>> evaluer_postfixee(\"3 5 + 4 2 - *\")\n",
    "16\n",
    ">>> evaluer_postfixee(\"3 5 4 2 + - *\")\n",
    "-3\n",
    "```"
   ]
  },
  {
   "cell_type": "markdown",
   "id": "8de4f7c8",
   "metadata": {},
   "source": [
    "# Exercice 5 : Tri de crêpes (niveau moyen)\n",
    "\n",
    "Le document [sujet_0_ex_1.pdf](sujet_0_ex_1.pdf) contient un exercice extrait du sujet 0 pour l'épreuve de NSI ayant pour thème les piles. La questiona 1 est similaire à des questions vues plus haut. La question 2 consiste à écrire une fonction calculant la hauteur de la pile (comme plus tôt dans ce TD), et une autre renvoyant l'indice du plus grand élément de la pile. La question 3 consiste à écrire une fonction pour inverser les `j` premiers éléments de la pile (vous pouvez adapter la fonction `inverser_pile` de l'exercice 2. Vous traiterez ensuite la question 4, qui présente le problème du tri de crêpes, lequel peut être modélisé et résolu avec une structure de pile."
   ]
  },
  {
   "cell_type": "markdown",
   "id": "f1b42368",
   "metadata": {},
   "source": [
    "# Exercice 6 : Implémentation d'une pile par une classe (niveau moyen)\n",
    "\n",
    "On souhaite maintenant écrire une nouvelle implémentation de la structure de pile dans une classe `Pile`. Cette nouvelle classe aura 3 attributs :\n",
    "\n",
    "* `contenu` : une liste représentant le contenu de la pile\n",
    "* `taille_max` : le nombre maximum d'élément que peut contenir la pile\n",
    "* `taille` : le nombre d'élément contenu dans la pile\n",
    "\n",
    "1) Écrire la méthode spéciale `__init__` permettant de construire un objet pile. Celle-ci prend en augment le nombre maximum d'élément que peut contenir la pile. Lorsque l'on créé une nouvelle pile, le contenu est une liste contenant `taille_max` fois l'élément `None`.\n",
    "\n",
    "2) Écrire la méthode `est_vide`.\n",
    "\n",
    "3.a) Quels sont les attributs qui seront modifiés lorsque l'on dépile ou l'on empile un élément ?\n",
    "\n",
    "3.b) Quelles sont les conditions que doivent vérifier les méthodes responsables de l'empilement et du dépilement ?\n",
    "\n",
    "3.c) Écrire les méthodes `empiler` qui ajoute un élément au sommet de la pile, et `dépiler` qui renvoie l'élément au sommet de la pile (en ayant pris soin de le remplacer par un `None` auparavant)."
   ]
  },
  {
   "cell_type": "markdown",
   "id": "4303f551",
   "metadata": {},
   "source": [
    "# Exercice 7 : Vérification d'un document HTML (niveau moyen)\n",
    "\n",
    "Cet exercice est adapté d'une [activité](https://gitlab-fil.univ-lille.fr/capes/portail/-/blob/master/ue1/pile_et_file/pile.md) proposée par le FIL.\n",
    "\n",
    "Le langage HTML est un langage à balise : il possède des balises qui permettent de décrire le contenu des pages web. La plupart de ces balises fonctionnent par paire, c'est à dire que la balise ouvrante (par exemple `<p>` qui débute un paragraphe) doit obligatoirement être suivie plus loin de la balise fermante correspondante (`</p>` dans le cas d'un paragraphe). Le but de cet exercice est d'écrire une fonction qui vérifie le bon balisage d'un document HTML.\n",
    "\n",
    "On utilisera dans cette exercice la classe `Pile` écrite dans l'exercice 6.\n",
    "\n",
    "## Partie 1\n",
    "\n",
    "On fournit un dossier [html_ex](html_ex) qui contient 4 exemples de fichiers HTML (le 1er et le 4ème sont correctement balisés, et les deux autres ne le sont pas).\n",
    "\n",
    "1) Pourquoi les fichiers HTML 2 et 3 donnés en exemple sont-ils incorrects (vous pouvez vous aider du [validateur](https://validator.w3.org/)). \n",
    "\n",
    "2) Écrire une fonction `est_balise_fermante` qui renvoie `True` si la chaîne de caractères passée en argument correspond à une balise fermante, et `False` sinon. \n",
    "\n",
    "3) Écrire une fonction `est_paire_balises` qui prend en argument deux chaînes de caractères et renvoie `True` si la première est une balise ouvrante et la deuxième est la balise fermante correspondante, et `False` sinon.\n",
    "\n",
    "Résultats attendus : \n",
    "\n",
    "```Python\n",
    ">>> est_balise_fermante(\"<div>\")\n",
    "False\n",
    ">>> est_balise_fermante(\"</div>\")\n",
    "True\n",
    ">>> est_paire_balises(\"<div>\", \"</div>\")\n",
    "True\n",
    ">>> est_paire_balises(\"<div>\", \"</p>\")\n",
    "```"
   ]
  },
  {
   "cell_type": "markdown",
   "id": "2589063a",
   "metadata": {},
   "source": [
    "\n",
    "## Partie 2\n",
    "\n",
    "On fournit un module [myhtml_parser](my_html_parser.py) dans lequel on trouve :\n",
    "\n",
    "* Une fonction html_to_str qui prend en argument le chemin vers un fichier HTML, et renvoie le contenu de ce fichier sous la forme d'une chaîne de caractères.\n",
    "\n",
    "* Une classe MyHTMLParser qui permet d'accéder aux balises (en anglais tags) d'un document HTML. On instancie un objet de cette classe à partir d'une chaîne de caractère qui contient le contenu d'un fichier HTML. \n",
    "\n",
    "Voici comment on peut utiliser ces éléments :"
   ]
  },
  {
   "cell_type": "code",
   "execution_count": 4,
   "id": "d8429ff8",
   "metadata": {},
   "outputs": [
    {
     "name": "stdout",
     "output_type": "stream",
     "text": [
      "<!DOCTYPE html><html lang=\"fr-FR\"><body><h1> Un titre </h1><p> un paragraphe </p></body></html>\n"
     ]
    }
   ],
   "source": [
    "from myhtml_parser import html_to_str, MyHTMLParser\n",
    "\n",
    "s = html_to_str(\"html_ex/ex1.html\")\n",
    "print(s)"
   ]
  },
  {
   "cell_type": "code",
   "execution_count": 5,
   "id": "20c9c391",
   "metadata": {},
   "outputs": [
    {
     "name": "stdout",
     "output_type": "stream",
     "text": [
      "<html>\n",
      "<body>\n",
      "<h1>\n",
      "</h1>\n",
      "<p>\n",
      "</p>\n",
      "</body>\n",
      "</html>\n"
     ]
    }
   ],
   "source": [
    "parser = MyHTMLParser(s)\n",
    "while parser.has_tag():\n",
    "    print(parser.next_tag())"
   ]
  },
  {
   "cell_type": "markdown",
   "id": "92e6e9ec",
   "metadata": {},
   "source": [
    "4) En utilisant les éléments du module [myhtml_parser](my_html_parser.py), vos fonctions de la partie 1 et une pile, écrire une fonction `verifier_html` qui prend un argument une chaîne de caractère correspondant au chemin vers un fichier HTML, et qui renvoie `True` si le document est bien balisé et `False` sinon.\n",
    "\n",
    "Un document est bien balisé si toute balise ouvrante est fermée plus loins, si aucune balise fermante n'apparaît avant la balise ouvrante correspondante et si les balises ne se chevauchent pas (elles doivent être fermées dans l'ordre inverse de leur ouverture).\n",
    "\n",
    "Résultats attendus :\n",
    "\n",
    "```Python\n",
    ">>> verifier_html(\"html_ex/ex1.html\")\n",
    "True\n",
    ">>> verifier_html(\"html_ex/ex2.html\")\n",
    "False\n",
    ">>> verifier_html(\"html_ex/ex3.html\")\n",
    "False\n",
    "True\n",
    "```"
   ]
  },
  {
   "cell_type": "markdown",
   "id": "7c9d0ef2",
   "metadata": {},
   "source": [
    "## Partie 3\n",
    "\n",
    "Les fichiers 1 à 3 fournis en exemple contiennent des balises qui fonctionnent toutes par paires. Toutefois, il existe des autofermantes (ou orphelines) qui sont à la fois ouvrantes et fermantes. Ces balises n'ont pas de contenu, mais elles ont des attributs. Les balises autofermantes les plus courantes sont `<area>, <br>, <hr>, <img>, <input>, <link>, <meta>` et `<param>`. Le 4ème fichier HTML donné en exemple contient une balise `<img>` autofermante.\n",
    "\n",
    "5) Modifier la fonction `verifier_html` pour que les documents contenant des balises autofermantes ne soient pas automatiquement rejetés.\n",
    "\n",
    "On souhaite aussi vérifier que les différents niveau des titres s'enchainent correctement. Par exemple, si l'on rencontre une balise `<h2>` qui correspond à un titre de niveau 2, on veut avoir vu auparavant une balise de titre de niveau 1 (`<h1>`).\n",
    "\n",
    "6) Modifier la fonction `verifier_html` pour qu'elle vérifie également que les différents niveaux de titres s'enchaînent correctement.\n",
    "\n",
    "Notez qu'en général, cette contrainte n'est pas obligatoire pour qu'un document HTML soit valide."
   ]
  },
  {
   "cell_type": "code",
   "execution_count": null,
   "id": "fe5a7dd6",
   "metadata": {},
   "outputs": [],
   "source": []
  }
 ],
 "metadata": {
  "kernelspec": {
   "display_name": "Python 3 (ipykernel)",
   "language": "python",
   "name": "python3"
  },
  "language_info": {
   "codemirror_mode": {
    "name": "ipython",
    "version": 3
   },
   "file_extension": ".py",
   "mimetype": "text/x-python",
   "name": "python",
   "nbconvert_exporter": "python",
   "pygments_lexer": "ipython3",
   "version": "3.7.3"
  }
 },
 "nbformat": 4,
 "nbformat_minor": 5
}
